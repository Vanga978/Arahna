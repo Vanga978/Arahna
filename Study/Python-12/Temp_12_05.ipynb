{
 "cells": [
  {
   "cell_type": "code",
   "execution_count": 68,
   "metadata": {},
   "outputs": [
    {
     "data": {
      "text/html": [
       "<div>\n",
       "<style scoped>\n",
       "    .dataframe tbody tr th:only-of-type {\n",
       "        vertical-align: middle;\n",
       "    }\n",
       "\n",
       "    .dataframe tbody tr th {\n",
       "        vertical-align: top;\n",
       "    }\n",
       "\n",
       "    .dataframe thead th {\n",
       "        text-align: right;\n",
       "    }\n",
       "</style>\n",
       "<table border=\"1\" class=\"dataframe\">\n",
       "  <thead>\n",
       "    <tr style=\"text-align: right;\">\n",
       "      <th></th>\n",
       "      <th>date</th>\n",
       "    </tr>\n",
       "  </thead>\n",
       "  <tbody>\n",
       "    <tr>\n",
       "      <th>0</th>\n",
       "      <td>2000-07-30 18:45:03</td>\n",
       "    </tr>\n",
       "    <tr>\n",
       "      <th>1</th>\n",
       "      <td>2000-07-30 18:20:47</td>\n",
       "    </tr>\n",
       "    <tr>\n",
       "      <th>2</th>\n",
       "      <td>2000-07-30 18:37:04</td>\n",
       "    </tr>\n",
       "  </tbody>\n",
       "</table>\n",
       "</div>"
      ],
      "text/plain": [
       "                  date\n",
       "0  2000-07-30 18:45:03\n",
       "1  2000-07-30 18:20:47\n",
       "2  2000-07-30 18:37:04"
      ]
     },
     "metadata": {},
     "output_type": "display_data"
    },
    {
     "data": {
      "text/plain": [
       "1998      507\n",
       "2014     1439\n",
       "2013     1664\n",
       "2011     1690\n",
       "1997     1916\n",
       "2010     2301\n",
       "1999     2439\n",
       "2004     3279\n",
       "2002     3478\n",
       "2001     3922\n",
       "2003     4014\n",
       "2006     4059\n",
       "2009     4158\n",
       "2008     4351\n",
       "2012     4656\n",
       "2005     5813\n",
       "1996     6040\n",
       "2018     6418\n",
       "2015     6616\n",
       "2016     6703\n",
       "2007     7114\n",
       "2017     8198\n",
       "2000    10061\n",
       "Name: year, dtype: int64"
      ]
     },
     "execution_count": 68,
     "metadata": {},
     "output_type": "execute_result"
    }
   ],
   "source": [
    "import pandas as pd\n",
    "r1=pd.read_csv('Data/Data_1/ratings1.csv')\n",
    "r2=pd.read_csv('Data/Data_1/ratings2.csv')\n",
    "d=pd.read_csv('Data/Data_1/dates.csv')\n",
    "m=pd.read_csv('Data/Data_1/movies.csv')\n",
    "#display(r1)\n",
    "#display(r2)\n",
    "#display(d)\n",
    "#display(m)\n",
    "display(d.head(3))\n",
    "d['date']=pd.to_datetime(d['date'],dayfirst=True)\n",
    "d['ymd']=d['date'].dt.date\n",
    "d['year']=d['date'].dt.year\n",
    "d['year'].value_counts().sort_values()"
   ]
  }
 ],
 "metadata": {
  "interpreter": {
   "hash": "6d29b40548cbf5ad3c06164e601114e20fac0dd21d3ea15c1b85aadaf62f7962"
  },
  "kernelspec": {
   "display_name": "Python 3.9.10 64-bit",
   "language": "python",
   "name": "python3"
  },
  "language_info": {
   "codemirror_mode": {
    "name": "ipython",
    "version": 3
   },
   "file_extension": ".py",
   "mimetype": "text/x-python",
   "name": "python",
   "nbconvert_exporter": "python",
   "pygments_lexer": "ipython3",
   "version": "3.9.10"
  },
  "orig_nbformat": 4
 },
 "nbformat": 4,
 "nbformat_minor": 2
}
