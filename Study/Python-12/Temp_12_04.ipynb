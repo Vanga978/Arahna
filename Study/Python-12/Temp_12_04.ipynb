{
 "cells": [
  {
   "cell_type": "code",
   "execution_count": null,
   "metadata": {},
   "outputs": [],
   "source": [
    "import pandas as pd\n",
    "f=pd.read_csv('data/melb_data_fe.csv')\n",
    "display(f.columns)\n",
    "f.groupby(['Rooms','Type'])['Price'].mean().unstack()\n",
    "f.pivot_table(values='Price',index='Rooms',columns='Type',fill_value=0).round()\n",
    "f.pivot_table(values='Price',index='Rooms',columns='Type',fill_value=0).round()\n",
    "f.pivot_table(values='Price',index='Rooms',columns='Type',fill_value='NaN')\n",
    "f.pivot_table(values='Price',index='Rooms',columns='Type',fill_value=0)\n",
    "f.pivot_table(values='Price',index='Regionname',columns='Weekend',aggfunc='count')   # Результаты равны 01\n",
    "f.pivot_table(values='Type',index='Regionname',columns='Weekend',aggfunc='count')   # Результаты равны 01\n",
    "f[(f['Weekend']==0) & (f['Regionname']=='Northern Victoria')].shape[0]  # Проверка 01\n",
    "f[(f['Regionname']=='Eastern Metropolitan') & (f['Type']=='townhouse')]['Landsize'].median()  # Проверка 02\n",
    "f.pivot_table(index='Regionname',values='Landsize',aggfunc=['median','mean'],columns='Type')            # 02\n",
    "\n",
    "# Многомерные сводные таблицы\n",
    "\n",
    "f.pivot_table(index=['Method','Type'],columns='Regionname',values='Price',aggfunc='median')\n",
    "\n",
    "# Доступ к данным в сводной таблице\n",
    "\n",
    "pivot=f.pivot_table(index='Regionname',values='Landsize',aggfunc=['median','mean'],columns='Type')\n",
    "display(pivot)\n",
    "pivot.columns\n",
    "pivot['mean']['unit']\n",
    "k=pivot[pivot['mean']['house'] < pivot['median']['house']]\n",
    "k.index\n",
    "list(k.index)\n"
   ]
  },
  {
   "cell_type": "code",
   "execution_count": null,
   "metadata": {},
   "outputs": [],
   "source": [
    "import numpy as np\n",
    "mser = pd.Series(\n",
    "    np.random.rand(8),\n",
    "\tindex=[['white','white','white','blue','blue','red','red','red'],['up','down','right','up','down','up','down','left']])\n",
    "mser.index\n",
    "mser\n",
    "mframe = pd.DataFrame(\n",
    "    np.random.randn(16).reshape(4,4),\n",
    "    index=[['white','white','red','red'], ['up','down','up','down']],\n",
    "    columns=[['pen','pen','paper','paper'],[1,2,1,2]]\n",
    ")\n",
    "display(mframe)"
   ]
  },
  {
   "cell_type": "code",
   "execution_count": null,
   "metadata": {},
   "outputs": [],
   "source": [
    "# 4.2\n",
    "import pandas as pd\n",
    "f=pd.read_csv('data/melb_data_fe.csv')\n",
    "k=f.pivot_table(columns='Rooms',index='Type',values='BuildingArea',aggfunc='median')\n",
    "t=f.pivot_table(index='Rooms',columns='Type',values='BuildingArea',aggfunc='median')\n",
    "display(t)\n",
    "\n",
    "t[lambda x: x['house'] == t['house'].max()]\n",
    "\n",
    "t[lambda x: x['townhouse'] == t['townhouse'].max()]\n",
    "\n",
    "t.loc[4]['house']\n",
    "\n",
    "# Дальше попытка извлечь одним числом\n",
    "m=0\n",
    "for i in t.columns:\n",
    "    if t[i].max() > m:\n",
    "        m=t[i].max()\n",
    "\n",
    "\n"
   ]
  },
  {
   "cell_type": "code",
   "execution_count": 3,
   "metadata": {},
   "outputs": [
    {
     "data": {
      "text/plain": [
       "'Nick'"
      ]
     },
     "execution_count": 3,
     "metadata": {},
     "output_type": "execute_result"
    }
   ],
   "source": [
    "# 4.3\n",
    "# Мое решение\n",
    "import pandas as pd\n",
    "f=pd.read_csv('data/melb_data_fe.csv')\n",
    "k=f.pivot_table(values='Price',index='SellerG',columns='Type',aggfunc='mean') \n",
    "k.sort_values(by='unit',ascending=False)\n",
    "\n",
    "# Эталон\n",
    "pivot = f.pivot_table(values='Price',index='SellerG',columns='Type',aggfunc='mean',)\n",
    "max_unit_price = pivot['unit'].max()\n",
    "pivot[pivot['unit'] == max_unit_price].index[0]\n",
    "\n",
    "# Измененный эталон\n",
    "y = f.pivot_table(values='Price',index='SellerG',columns='Type',aggfunc='mean',)\n",
    "y[y['unit'] == y['unit'].max()].index[0]"
   ]
  }
 ],
 "metadata": {
  "interpreter": {
   "hash": "6d29b40548cbf5ad3c06164e601114e20fac0dd21d3ea15c1b85aadaf62f7962"
  },
  "kernelspec": {
   "display_name": "Python 3.9.10 64-bit",
   "language": "python",
   "name": "python3"
  },
  "language_info": {
   "codemirror_mode": {
    "name": "ipython",
    "version": 3
   },
   "file_extension": ".py",
   "mimetype": "text/x-python",
   "name": "python",
   "nbconvert_exporter": "python",
   "pygments_lexer": "ipython3",
   "version": "3.9.10"
  },
  "orig_nbformat": 4
 },
 "nbformat": 4,
 "nbformat_minor": 2
}
