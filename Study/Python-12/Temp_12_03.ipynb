{
 "cells": [
  {
   "cell_type": "code",
   "execution_count": null,
   "metadata": {},
   "outputs": [],
   "source": [
    "import pandas as pd\n",
    "f=pd.read_csv('data/melb_data_fe.csv')\n",
    "display(f.columns)\n",
    "f.groupby(by='Type').mean()                   # Вариант 1\n",
    "f.groupby(by='Type',as_index=False).mean()    # Вариант 2\n",
    "f.groupby(by='Type',as_index=False)['Price'].mean()\n",
    "f.groupby('Type',as_index=False)['Price'].mean()\n",
    "f.groupby('Type')['Price'].mean()/10**6\n",
    "f.groupby(by='Regionname')['Distance'].min().sort_values(ascending=False)\n",
    "f.groupby('MonthSale')['Price'].agg(['count','mean','max','min',set]).sort_values(by='count',ascending=False)\n",
    "f.groupby('MonthSale')['Price'].agg(['count','mean','max','min']).sort_values(by='count',ascending=False)\n",
    "f.groupby('MonthSale')['Price'].agg('describe')\n",
    "#display(f.head())\n",
    "f.groupby('Regionname')['SellerG'].agg(['nunique',set]).sort_values(by='nunique')\n",
    "f.groupby('Regionname')['SellerG'].agg(['nunique',set])\n",
    "f['Rooms'].value_counts().sort_values(ascending=False)\n",
    "\n",
    "# 3.1\n",
    "f.groupby('Rooms')['Price'].mean().sort_values(ascending=True)\n",
    "\n",
    "# 3.2 Правильно, но что сделал не понял\n",
    "f.loc[:,['Regionname','Lattitude']]\n",
    "f.groupby('Regionname')['Lattitude'].std().sort_values(ascending=True)\n",
    "\n",
    "# 3.3 Следующий блок\n",
    "f['Date']=pd.to_datetime(f['Date'],dayfirst=True)\n",
    "f.groupby('SellerG')['Price'].sum()"
   ]
  },
  {
   "cell_type": "code",
   "execution_count": 137,
   "metadata": {},
   "outputs": [
    {
     "data": {
      "text/plain": [
       "SellerG\n",
       "LITTLE             2742000.0\n",
       "Cayzer             4439000.0\n",
       "Burnham            4550500.0\n",
       "Moonee             7328000.0\n",
       "Thomson            8332000.0\n",
       "Bells              8656000.0\n",
       "Alexkarbon        10985000.0\n",
       "McDonald          14637500.0\n",
       "Rendina           15422276.0\n",
       "Nick              16890000.0\n",
       "Douglas           18341000.0\n",
       "Buckingham        19033000.0\n",
       "C21               19515000.0\n",
       "Eview             19791500.0\n",
       "Collins           20217000.0\n",
       "Philip            22051800.0\n",
       "Chisholm          23225000.0\n",
       "Williams          23297000.0\n",
       "Love              23365500.0\n",
       "Purplebricks      23401000.0\n",
       "O'Brien           23855508.0\n",
       "HAR               25568000.0\n",
       "Village           26473000.0\n",
       "RW                29261000.0\n",
       "Raine             30687700.0\n",
       "Stockdale         35409800.0\n",
       "Sweeney           36882750.0\n",
       "Gary              39138400.0\n",
       "Hodges            43231000.0\n",
       "YPA               46354350.0\n",
       "Miles             47582000.0\n",
       "Kay               48569500.0\n",
       "RT                50498000.0\n",
       "Brad              55955000.0\n",
       "Jas               59281600.0\n",
       "Harcourts         68720250.0\n",
       "McGrath           78386500.0\n",
       "Greg              85621000.0\n",
       "Woodards          85977500.0\n",
       "Noel              88129800.0\n",
       "Fletchers        108847700.0\n",
       "Biggin           110429500.0\n",
       "Buxton           219104000.0\n",
       "Ray              249572986.0\n",
       "Marshall         253957888.0\n",
       "hockingstuart    282834310.0\n",
       "Barry            296723050.0\n",
       "other            365038432.0\n",
       "Nelson           379767500.0\n",
       "Jellis           414121833.0\n",
       "Name: Price, dtype: float64"
      ]
     },
     "execution_count": 137,
     "metadata": {},
     "output_type": "execute_result"
    }
   ],
   "source": [
    "import pandas as pd\n",
    "f=pd.read_csv('data/melb_data_fe.csv')\n",
    "f['Date']=pd.to_datetime(f['Date'],dayfirst=True)\n",
    "\n",
    "# 3.3 Эталонный вариант\n",
    "date1 = pd.to_datetime('2017-05-01')\n",
    "date2 = pd.to_datetime('2017-09-01')\n",
    "mask = (date1 <= f['Date']) & (f['Date']<= date2)\n",
    "f[mask].groupby('SellerG')['Price'].sum().sort_values(ascending=True)\n",
    "\n",
    "#3.3 Собственный рабочий вариант в одну строку\n",
    "f[(f['Date'] >= '2017-05-01') & (f['Date'] <= '2017-09-01')].groupby('SellerG')['Price'].sum().sort_values(ascending=True)\n",
    "\n",
    "\n"
   ]
  }
 ],
 "metadata": {
  "interpreter": {
   "hash": "6d29b40548cbf5ad3c06164e601114e20fac0dd21d3ea15c1b85aadaf62f7962"
  },
  "kernelspec": {
   "display_name": "Python 3.9.10 64-bit",
   "language": "python",
   "name": "python3"
  },
  "language_info": {
   "codemirror_mode": {
    "name": "ipython",
    "version": 3
   },
   "file_extension": ".py",
   "mimetype": "text/x-python",
   "name": "python",
   "nbconvert_exporter": "python",
   "pygments_lexer": "ipython3",
   "version": "3.9.10"
  },
  "orig_nbformat": 4
 },
 "nbformat": 4,
 "nbformat_minor": 2
}
