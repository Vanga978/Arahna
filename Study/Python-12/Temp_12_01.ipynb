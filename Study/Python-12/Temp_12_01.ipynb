{
 "cells": [
  {
   "cell_type": "code",
   "execution_count": null,
   "metadata": {},
   "outputs": [],
   "source": [
    "import pandas as pd\n",
    "f=pd.read_csv('data/melb_data_fe.csv')\n",
    "\n",
    "f['Date']=pd.to_datetime(f['Date'],dayfirst=True)\n",
    "f['Date']=f['Date'].dt.quarter\n",
    "f['Date'].value_counts()                     # 1.1\n",
    "\n",
    "display(f.columns)\n",
    "display(f.head(3))\n",
    "\n",
    "l='Date,Rooms,Bedroom,Bathroom,Car'\n",
    "l=l.split(',')\n",
    "#f.info()\n",
    "for i in f.columns:\n",
    "    if f[i].nunique() < 150 and i not in l:\n",
    "        f[i]=f[i].astype('category')\n",
    "print('----------------')\n",
    "f.info()                                      # 1.2\n",
    "\n",
    "\n"
   ]
  }
 ],
 "metadata": {
  "interpreter": {
   "hash": "6d29b40548cbf5ad3c06164e601114e20fac0dd21d3ea15c1b85aadaf62f7962"
  },
  "kernelspec": {
   "display_name": "Python 3.9.10 64-bit",
   "language": "python",
   "name": "python3"
  },
  "language_info": {
   "codemirror_mode": {
    "name": "ipython",
    "version": 3
   },
   "file_extension": ".py",
   "mimetype": "text/x-python",
   "name": "python",
   "nbconvert_exporter": "python",
   "pygments_lexer": "ipython3",
   "version": "3.9.10"
  },
  "orig_nbformat": 4
 },
 "nbformat": 4,
 "nbformat_minor": 2
}
