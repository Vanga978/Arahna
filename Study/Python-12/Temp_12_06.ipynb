{
 "cells": [
  {
   "cell_type": "code",
   "execution_count": null,
   "metadata": {},
   "outputs": [],
   "source": [
    "import pandas as pd\n",
    "r1=pd.read_csv('Data/Data_1/ratings1.csv')\n",
    "r2=pd.read_csv('Data/Data_1/ratings2.csv')\n",
    "d=pd.read_csv('Data/Data_1/dates.csv')\n",
    "m=pd.read_csv('Data/Data_1/movies.csv')\n",
    "r1\n",
    "r2\n",
    "r12=pd.concat([r1,r2],ignore_index=True)\n",
    "r12[39998:]\n",
    "r12=r12.drop_duplicates(ignore_index=True)\n",
    "r12[39998:]\n",
    "r12d=pd.concat([r12,d],axis=1)\n",
    "r12d\n",
    "\n"
   ]
  },
  {
   "cell_type": "code",
   "execution_count": null,
   "metadata": {},
   "outputs": [],
   "source": [
    "# 6.2\n",
    "import pandas as pd\n",
    "df1 = pd.DataFrame({\"Name\": [\"Pankaj\", \"Lisa\"], \"Surname\": [\"Sobolev\", \"Krasnova\"]})\n",
    "df2 = pd.DataFrame({\"Role\": [\"Admin\", \"Editor\"]})\n",
    "df=pd.concat([df1,df2],axis=1)\n",
    "df"
   ]
  },
  {
   "cell_type": "code",
   "execution_count": null,
   "metadata": {},
   "outputs": [],
   "source": [
    "import pandas as pd\n",
    "import os\n",
    "l=os.listdir('Data/Data_1')\n",
    "k=os.listdir('.')\n",
    "k"
   ]
  },
  {
   "cell_type": "code",
   "execution_count": null,
   "metadata": {},
   "outputs": [],
   "source": [
    "# 6.3\n",
    "import pandas as pd\n",
    "import os\n",
    "\n",
    "def concat_users_files(path):\n",
    "    \"\"\"\n",
    "    Вам необходимо написать функцию concat_user_files(path), параметром которой является path - путь до директории. \n",
    "    Функция должна объединить информацию из предоставленных вам файлов в один DataFrame и вернуть его. \n",
    "    Не забудьте обновить индексы результирующей таблицы после объединения.\n",
    "    Учтите тот момент, что в результате объединения могут возникнуть дубликаты, от которых необходимо будет избавиться. \n",
    "    \"\"\"\n",
    "    l=os.listdir(path)\n",
    "    l.sort()\n",
    "    a=pd.DataFrame()\n",
    "    c=pd.read_csv(path+l[0])\n",
    "    for i in l:\n",
    "        b=pd.read_csv(path+i)\n",
    "        a=pd.concat([a,b],ignore_index=True)\n",
    "    a=a.drop_duplicates()\n",
    "    return a\n",
    "#    a=pd.read_csv('./Root/users/users1.csv')\n",
    "\n",
    "\n",
    "if __name__ == '__main__':\n",
    "    data = concat_users_files('./Root/users/')\n",
    "    \n",
    "print(concat_users_files('./Root/users/'))"
   ]
  }
 ],
 "metadata": {
  "interpreter": {
   "hash": "6d29b40548cbf5ad3c06164e601114e20fac0dd21d3ea15c1b85aadaf62f7962"
  },
  "kernelspec": {
   "display_name": "Python 3.9.10 64-bit",
   "language": "python",
   "name": "python3"
  },
  "language_info": {
   "codemirror_mode": {
    "name": "ipython",
    "version": 3
   },
   "file_extension": ".py",
   "mimetype": "text/x-python",
   "name": "python",
   "nbconvert_exporter": "python",
   "pygments_lexer": "ipython3",
   "version": "3.9.10"
  },
  "orig_nbformat": 4
 },
 "nbformat": 4,
 "nbformat_minor": 2
}
