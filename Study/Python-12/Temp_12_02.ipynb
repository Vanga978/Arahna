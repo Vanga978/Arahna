{
 "cells": [
  {
   "cell_type": "code",
   "execution_count": 114,
   "metadata": {},
   "outputs": [
    {
     "data": {
      "text/plain": [
       "Index(['Suburb', 'Rooms', 'Type', 'Price', 'Method', 'SellerG', 'Date',\n",
       "       'Distance', 'Postcode', 'Bedroom', 'Bathroom', 'Car', 'Landsize',\n",
       "       'BuildingArea', 'CouncilArea', 'Lattitude', 'Longtitude', 'Regionname',\n",
       "       'Propertycount', 'MeanRoomsSquare', 'AreaRatio', 'MonthSale',\n",
       "       'AgeBuilding', 'WeekdaySale', 'StreetType', 'Weekend'],\n",
       "      dtype='object')"
      ]
     },
     "metadata": {},
     "output_type": "display_data"
    },
    {
     "data": {
      "text/html": [
       "<div>\n",
       "<style scoped>\n",
       "    .dataframe tbody tr th:only-of-type {\n",
       "        vertical-align: middle;\n",
       "    }\n",
       "\n",
       "    .dataframe tbody tr th {\n",
       "        vertical-align: top;\n",
       "    }\n",
       "\n",
       "    .dataframe thead th {\n",
       "        text-align: right;\n",
       "    }\n",
       "</style>\n",
       "<table border=\"1\" class=\"dataframe\">\n",
       "  <thead>\n",
       "    <tr style=\"text-align: right;\">\n",
       "      <th></th>\n",
       "      <th>Rooms</th>\n",
       "      <th>MeanRoomsSquare</th>\n",
       "      <th>Price</th>\n",
       "    </tr>\n",
       "  </thead>\n",
       "  <tbody>\n",
       "    <tr>\n",
       "      <th>18</th>\n",
       "      <td>3</td>\n",
       "      <td>27.75</td>\n",
       "      <td>1300000.0</td>\n",
       "    </tr>\n",
       "  </tbody>\n",
       "</table>\n",
       "</div>"
      ],
      "text/plain": [
       "    Rooms  MeanRoomsSquare      Price\n",
       "18      3            27.75  1300000.0"
      ]
     },
     "execution_count": 114,
     "metadata": {},
     "output_type": "execute_result"
    }
   ],
   "source": [
    "import pandas as pd\n",
    "f=pd.read_csv('data/melb_data_fe.csv')\n",
    "g=pd.read_csv('data/melb_data.csv')   # просто сравнивал набор столбцов\n",
    "display(f.columns)\n",
    "f.head(15)\n",
    "f.sort_values(by=['Price']).head(15)\n",
    "f.sort_values(by='Date',ascending=False).head(15)\n",
    "f.sort_values(by=['Distance','Price']).loc[::10,['Distance','Price']]\n",
    "\n",
    "mask1 = f['AreaRatio'] < -0.8\n",
    "mask2 = f['Type'] == 'townhouse'\n",
    "mask3 = f['SellerG'] == 'McGrath'\n",
    "# Вариант 1\n",
    "f[mask1 & mask2 & mask3].sort_values(by=['Date', 'AreaRatio'],ascending=[True, False],ignore_index=True).loc[:, ['Date', 'AreaRatio']]\n",
    "# Вариант 2\n",
    "f[(f['AreaRatio'] < -0.8) & (f['Type'] == 'townhouse') & mask3].sort_values(by=['Date', 'AreaRatio'],ascending=[True, False],ignore_index=True).loc[:, ['Date', 'AreaRatio']]\n",
    "f['AreaRatio']\n",
    "\n",
    "# 2.2\n",
    "f.sort_values(by=['AreaRatio'],ascending=False,ignore_index=True).loc[[1558],['AreaRatio','BuildingArea']]\n",
    "\n",
    "# 2.3\n",
    "f[(f['Type']=='townhouse') & (f['Rooms'] > 2)].sort_values(by=['Rooms','MeanRoomsSquare'],ascending=[True,False],ignore_index=True).loc[[18],['Rooms','MeanRoomsSquare','Price']]\n"
   ]
  }
 ],
 "metadata": {
  "interpreter": {
   "hash": "6d29b40548cbf5ad3c06164e601114e20fac0dd21d3ea15c1b85aadaf62f7962"
  },
  "kernelspec": {
   "display_name": "Python 3.9.10 64-bit",
   "language": "python",
   "name": "python3"
  },
  "language_info": {
   "codemirror_mode": {
    "name": "ipython",
    "version": 3
   },
   "file_extension": ".py",
   "mimetype": "text/x-python",
   "name": "python",
   "nbconvert_exporter": "python",
   "pygments_lexer": "ipython3",
   "version": "3.9.10"
  },
  "orig_nbformat": 4
 },
 "nbformat": 4,
 "nbformat_minor": 2
}
