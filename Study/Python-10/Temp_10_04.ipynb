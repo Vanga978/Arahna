{
 "cells": [
  {
   "cell_type": "code",
   "execution_count": null,
   "metadata": {},
   "outputs": [],
   "source": [
    "import pandas as pd\n",
    "countries_df = pd.DataFrame(\n",
    "    data = [\n",
    "        ['Англия', 56.29, 133396],\n",
    "        ['Канада', 38.05, 9984670],\n",
    "        ['США', 322.28, 9826630],\n",
    "        ['Россия', 146.24, 17125191],\n",
    "        ['Украина', 45.5, 603628],\n",
    "        ['Беларусь', 9.5, 207600],\n",
    "        ['Казахстан', 17.04, 2724902]\n",
    "    ],\n",
    "    columns= ['country', 'population', 'square'],\n",
    "    index = ['UK', 'CA', 'US', 'RU', 'UA', 'BY', 'KZ']\n",
    ")\n",
    "display(countries_df)\n",
    "#print(countries_df)\n",
    "#print(countries_df.mean(axis=1))\n",
    "#print(countries_df.population)\n",
    "#print(countries_df.country)\n",
    "#display(countries_df.country)\n",
    "#print(countries_df.loc[['UK','KZ'],['square','population']])\n",
    "#print(countries_df.iloc[1:5,1:3])\n",
    "countries_df.to_csv('data/countries.csv',index=False,sep=';')"
   ]
  },
  {
   "cell_type": "code",
   "execution_count": null,
   "metadata": {},
   "outputs": [],
   "source": [
    "nam=['index','Suburb','Address','Rooms','Type','Price','Method','SellerG','Date','Distance','Postcode','Bedroom','Bathroom','Car','Landsize','BuildingArea','YearBuilt','CouncilArea','Lattitude','Longtitude','Regionname','Propertycount','Coordinates']\n",
    "dfg='index,Suburb,Address,Rooms,Type,Price,Method,SellerG,Date,Distance,Postcode,Bedroom,Bathroom,Car,Landsize,BuildingArea,YearBuilt,CouncilArea,Lattitude,Longtitude,Regionname,Propertycount,Coordinates'\n",
    "#print(dfg)\n",
    "dfg=dfg.split(',')\n",
    "#print(dfg)\n",
    "a=pd.read_csv('data/countries.csv',sep=';')\n",
    "b=pd.read_csv('data/melb_data.csv',skiprows=12)\n",
    "c=pd.read_csv('data/melb_data.csv')\n",
    "d=pd.read_csv('data/melb_data.csv',skiprows=1690,names=dfg)\n",
    "e=pd.read_csv('data/melb_data.csv')\n",
    "#display(d)\n",
    "#c==b\n",
    "g1=c.loc[3521,'Landsize']\n",
    "g2=c.loc[1690,'Landsize']\n",
    "print(g1,g2)\n",
    "g3=g1/g2\n",
    "print(g3)\n",
    "print(int(g3))\n"
   ]
  }
 ],
 "metadata": {
  "interpreter": {
   "hash": "6d29b40548cbf5ad3c06164e601114e20fac0dd21d3ea15c1b85aadaf62f7962"
  },
  "kernelspec": {
   "display_name": "Python 3.9.10 64-bit",
   "language": "python",
   "name": "python3"
  },
  "language_info": {
   "codemirror_mode": {
    "name": "ipython",
    "version": 3
   },
   "file_extension": ".py",
   "mimetype": "text/x-python",
   "name": "python",
   "nbconvert_exporter": "python",
   "pygments_lexer": "ipython3",
   "version": "3.9.10"
  },
  "orig_nbformat": 4
 },
 "nbformat": 4,
 "nbformat_minor": 2
}
