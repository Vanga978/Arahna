{
 "cells": [
  {
   "cell_type": "code",
   "execution_count": 5,
   "metadata": {},
   "outputs": [
    {
     "name": "stdout",
     "output_type": "stream",
     "text": [
      "      country  population    square\n",
      "UK     Англия       56.29    133396\n",
      "CA     Канада       38.05   9984670\n",
      "US        США      322.28   9826630\n",
      "RU     Россия      146.24  17125191\n",
      "UA    Украина       45.50    603628\n",
      "BY   Беларусь        9.50    207600\n",
      "KZ  Казахстан       17.04   2724902\n"
     ]
    }
   ],
   "source": [
    "import pandas as pd\n",
    "countries_df = pd.DataFrame(\n",
    "    data = [\n",
    "        ['Англия', 56.29, 133396],\n",
    "        ['Канада', 38.05, 9984670],\n",
    "        ['США', 322.28, 9826630],\n",
    "        ['Россия', 146.24, 17125191],\n",
    "        ['Украина', 45.5, 603628],\n",
    "        ['Беларусь', 9.5, 207600],\n",
    "        ['Казахстан', 17.04, 2724902]\n",
    "    ],\n",
    "    columns= ['country', 'population', 'square'],\n",
    "    index = ['UK', 'CA', 'US', 'RU', 'UA', 'BY', 'KZ']\n",
    ")\n",
    "#display(countries_df)\n",
    "print(countries_df)\n",
    "#print(countries_df.mean(axis=1))\n",
    "#print(countries_df.population)\n",
    "#print(countries_df.country)\n",
    "#display(countries_df.country)\n",
    "#print(countries_df.loc[['UK','KZ'],['square','population']])\n",
    "#print(countries_df.iloc[1:5,1:3])\n",
    "countries_df.to_csv('data/countries.csv',index=False,sep=';')"
   ]
  }
 ],
 "metadata": {
  "interpreter": {
   "hash": "6d29b40548cbf5ad3c06164e601114e20fac0dd21d3ea15c1b85aadaf62f7962"
  },
  "kernelspec": {
   "display_name": "Python 3.9.10 64-bit",
   "language": "python",
   "name": "python3"
  },
  "language_info": {
   "codemirror_mode": {
    "name": "ipython",
    "version": 3
   },
   "file_extension": ".py",
   "mimetype": "text/x-python",
   "name": "python",
   "nbconvert_exporter": "python",
   "pygments_lexer": "ipython3",
   "version": "3.9.10"
  },
  "orig_nbformat": 4
 },
 "nbformat": 4,
 "nbformat_minor": 2
}
