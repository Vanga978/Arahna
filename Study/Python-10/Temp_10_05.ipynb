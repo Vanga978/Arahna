{
 "cells": [
  {
   "cell_type": "code",
   "execution_count": null,
   "metadata": {},
   "outputs": [],
   "source": [
    "nam=['index','Suburb','Address','Rooms','Type','Price','Method','SellerG','Date','Distance','Postcode','Bedroom','Bathroom','Car','Landsize','BuildingArea','YearBuilt','CouncilArea','Lattitude','Longtitude','Regionname','Propertycount','Coordinates']\n",
    "dfg='index,Suburb,Address,Rooms,Type,Price,Method,SellerG,Date,Distance,Postcode,Bedroom,Bathroom,Car,Landsize,BuildingArea,YearBuilt,CouncilArea,Lattitude,Longtitude,Regionname,Propertycount,Coordinates'\n",
    "#print(dfg)\n",
    "dfg=dfg.split(',')\n",
    "#print(dfg)\n",
    "a=pd.read_csv('data/countries.csv',sep=';')\n",
    "b=pd.read_csv('data/melb_data.csv',skiprows=12)\n",
    "c=pd.read_csv('data/melb_data.csv')\n",
    "d=pd.read_csv('data/melb_data.csv',skiprows=1690,names=dfg)\n",
    "e=pd.read_csv('data/melb_data.csv')\n",
    "#display(d)\n",
    "#c==b\n",
    "g1=c.loc[3521,'Landsize']\n",
    "g2=c.loc[1690,'Landsize']\n",
    "print(g1,g2)\n",
    "g3=g1/g2\n",
    "print(g3)\n",
    "print(int(g3))"
   ]
  }
 ],
 "metadata": {
  "language_info": {
   "name": "python"
  },
  "orig_nbformat": 4
 },
 "nbformat": 4,
 "nbformat_minor": 2
}
