{
 "cells": [
  {
   "cell_type": "code",
   "execution_count": 107,
   "metadata": {},
   "outputs": [
    {
     "data": {
      "text/plain": [
       "Index(['index', 'Suburb', 'Address', 'Rooms', 'Type', 'Price', 'Method',\n",
       "       'SellerG', 'Date', 'Distance', 'Postcode', 'Bedroom', 'Bathroom', 'Car',\n",
       "       'Landsize', 'BuildingArea', 'YearBuilt', 'CouncilArea', 'Lattitude',\n",
       "       'Longtitude', 'Regionname', 'Propertycount', 'Coordinates'],\n",
       "      dtype='object')"
      ]
     },
     "metadata": {},
     "output_type": "display_data"
    },
    {
     "data": {
      "text/plain": [
       "13580"
      ]
     },
     "metadata": {},
     "output_type": "display_data"
    },
    {
     "name": "stdout",
     "output_type": "stream",
     "text": [
      "---\n"
     ]
    },
    {
     "data": {
      "text/plain": [
       "1114"
      ]
     },
     "metadata": {},
     "output_type": "display_data"
    },
    {
     "data": {
      "text/plain": [
       "21       3\n",
       "38       3\n",
       "42       3\n",
       "48       2\n",
       "56       3\n",
       "        ..\n",
       "13437    4\n",
       "13485    4\n",
       "13504    3\n",
       "13521    4\n",
       "13526    3\n",
       "Name: Rooms, Length: 1114, dtype: int64"
      ]
     },
     "metadata": {},
     "output_type": "display_data"
    }
   ],
   "source": [
    "import pandas as pd\n",
    "dfg='index,Suburb,Address,Rooms,Type,Price,Method,SellerG,Date,Distance,Postcode,Bedroom,Bathroom,Car,Landsize,BuildingArea,YearBuilt,CouncilArea,Lattitude,Longtitude,Regionname,Propertycount,Coordinates'\n",
    "dfg=dfg.split(',')\n",
    "c=pd.read_csv('data/melb_data.csv')\n",
    "#c=pd.read_csv('data/melb_data.csv',names=dfg)\n",
    "#display(c)\n",
    "display(c.columns)\n",
    "#display(c)\n",
    "#display(c['Car'].head())\n",
    "#display(c.Car.head())\n",
    "display(c['Car'].count())\n",
    "\n",
    "print('---')\n",
    "\n",
    "c[(c['Car']==10)|(c['Car']==9)].shape[0]\n",
    "c[c['Rooms']==3].shape[0]\n",
    "c[c['Price']>300000].shape[0]\n",
    "display(c[c['Type']=='t'].shape[0])\n",
    "display(c[c['Type']=='t']['Rooms'])\n"
   ]
  }
 ],
 "metadata": {
  "interpreter": {
   "hash": "6d29b40548cbf5ad3c06164e601114e20fac0dd21d3ea15c1b85aadaf62f7962"
  },
  "kernelspec": {
   "display_name": "Python 3.9.10 64-bit",
   "language": "python",
   "name": "python3"
  },
  "language_info": {
   "codemirror_mode": {
    "name": "ipython",
    "version": 3
   },
   "file_extension": ".py",
   "mimetype": "text/x-python",
   "name": "python",
   "nbconvert_exporter": "python",
   "pygments_lexer": "ipython3",
   "version": "3.9.10"
  },
  "orig_nbformat": 4
 },
 "nbformat": 4,
 "nbformat_minor": 2
}
