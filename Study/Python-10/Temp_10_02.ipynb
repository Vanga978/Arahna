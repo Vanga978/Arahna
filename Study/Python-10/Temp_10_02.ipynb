{
 "cells": [
  {
   "cell_type": "code",
   "execution_count": null,
   "metadata": {},
   "outputs": [],
   "source": [
    "import pandas as pd\n",
    "import numpy as np\n",
    "print(pd.__version__)\n",
    "print(pd.__name__)\n",
    "print(np.__name__)\n"
   ]
  },
  {
   "cell_type": "code",
   "execution_count": null,
   "metadata": {},
   "outputs": [],
   "source": [
    "import pandas as pd\n",
    "countries = pd.Series(\n",
    "    data = ['Англия', 'Канада', 'США', 'Россия', 'Украина', 'Беларусь', 'Казахстан'],index = ['UK', 'CA', 'US', 'RU', 'UA', 'BY', 'KZ'],name = 'countries')\n",
    "#display(countries)\n",
    "#print(countries)\n",
    "print(countries.loc['RU'])\n",
    "display(countries.loc['RU'])\n",
    "print(countries.loc[['RU','KZ']])\n",
    "display(countries.loc[['RU','KZ']])\n",
    "print('---')\n",
    "print(countries.iloc[3:4])\n"
   ]
  },
  {
   "cell_type": "code",
   "execution_count": null,
   "metadata": {},
   "outputs": [],
   "source": [
    "import pandas as pd\n",
    "#fruits=pd.Series([\"Апельсин\", \"Киви\", \"Мандарин\", \"Яблоко\"], [\"а\", \"к\", \"м\", \"я\"])\n",
    "fruits=pd.Series(data=[\"Апельсин\", \"Киви\", \"Мандарин\", \"Яблоко\"], index = [\"а\", \"к\", \"м\", \"я\"], name = \"fruits\")\n",
    "#fruits=pd.Series({'а': \"Апельсин\", 'к': 'Киви', 'м': 'Мандарин', 'я': 'Яблоко'}, name='fruits')\n",
    "#fruits=pd.Series([\"Апельсин\", \"Киви\", \"Мандарин\", \"Яблоко\"], name='fruits')\n",
    "print(fruits)"
   ]
  },
  {
   "cell_type": "code",
   "execution_count": null,
   "metadata": {},
   "outputs": [],
   "source": [
    "import pandas as pd\n",
    "my_series = pd.Series(data=[5, 6, 7, 8, 9, 10], index=['a', 'b', 'c', 'd', 'e', 'f'])\n",
    "print(my_series[1:5])\n"
   ]
  },
  {
   "cell_type": "code",
   "execution_count": 1,
   "metadata": {},
   "outputs": [
    {
     "name": "stdout",
     "output_type": "stream",
     "text": [
      "chlorhexidine    15\n",
      "cyntomycin       18\n",
      "afobazol          7\n",
      "Name: medications, dtype: int64\n",
      "40\n"
     ]
    }
   ],
   "source": [
    "import pandas as pd\n",
    "names=['chlorhexidine', 'cyntomycin', 'afobazol']\n",
    "counts=[15, 18, 7]\n",
    "def create_medications(names,counts):\n",
    "    medications=pd.Series(data=counts,index=names,name='medications')\n",
    "    return medications\n",
    "create_medications(names,counts)\n",
    "medications=pd.Series(data=counts,index=names,name='medications')\n",
    "print(medications)\n",
    "#def get_percent(medications,name):\n",
    "print(sum(medications))   \n",
    "    \n"
   ]
  }
 ],
 "metadata": {
  "interpreter": {
   "hash": "6d29b40548cbf5ad3c06164e601114e20fac0dd21d3ea15c1b85aadaf62f7962"
  },
  "kernelspec": {
   "display_name": "Python 3.9.10 64-bit",
   "language": "python",
   "name": "python3"
  },
  "language_info": {
   "codemirror_mode": {
    "name": "ipython",
    "version": 3
   },
   "file_extension": ".py",
   "mimetype": "text/x-python",
   "name": "python",
   "nbconvert_exporter": "python",
   "pygments_lexer": "ipython3",
   "version": "3.9.10"
  },
  "orig_nbformat": 4
 },
 "nbformat": 4,
 "nbformat_minor": 2
}
