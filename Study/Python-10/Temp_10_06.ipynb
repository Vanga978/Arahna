{
 "cells": [
  {
   "cell_type": "code",
   "execution_count": null,
   "metadata": {},
   "outputs": [],
   "source": [
    "import pandas as pd\n",
    "dfg='index,Suburb,Address,Rooms,Type,Price,Method,SellerG,Date,Distance,Postcode,Bedroom,Bathroom,Car,Landsize,BuildingArea,YearBuilt,CouncilArea,Lattitude,Longtitude,Regionname,Propertycount,Coordinates'\n",
    "dfg=dfg.split(',')\n",
    "a=pd.read_csv('data/countries.csv',sep=';')\n",
    "b=pd.read_csv('data/melb_data.csv',skiprows=12)\n",
    "c=pd.read_csv('data/melb_data.csv')\n",
    "d=pd.read_csv('data/melb_data.csv',skiprows=1690,names=dfg)\n",
    "e=pd.read_csv('data/melb_data.csv')\n",
    "#display(d)\n",
    "#c==b\n",
    "#g1=c.loc[3521,'Landsize']\n",
    "#g2=c.loc[1690,'Landsize']\n",
    "#print(g1,g2)\n",
    "#g3=g1/g2\n",
    "#print(g3)\n",
    "#print(int(g3))\n",
    "#display(c.tail(7))\n",
    "#display(c.head(1))\n",
    "#display(c.shape)\n",
    "#display(c.info())\n",
    "#display(c.CouncilArea)\n",
    "#display(c)\n",
    "#display(c.loc[13575,'Landsize'])\n",
    "display(c.columns)\n",
    "#display(c.YearBuilt)\n",
    "#c['YearBuilt']=c['YearBuilt'].astype('int64')\n",
    "print('######')\n",
    "#display(c.CouncilArea)\n",
    "print('++++++++')\n",
    "display(c.describe(include=['object']).loc[:,['CouncilArea']])\n",
    "#display(c['CouncilArea'].value_counts(dropna=False))\n",
    "display(c.describe().loc[:,['Price']])\n",
    "display(c.describe(include=['object']))\n",
    "display(c.describe())\n",
    "#display(c.isna().sum())\n",
    "display(c)\n",
    "\n",
    "\n"
   ]
  },
  {
   "cell_type": "code",
   "execution_count": null,
   "metadata": {},
   "outputs": [],
   "source": [
    "import pandas as pd\n",
    "dfg='index,Suburb,Address,Rooms,Type,Price,Method,SellerG,Date,Distance,Postcode,Bedroom,Bathroom,Car,Landsize,BuildingArea,YearBuilt,CouncilArea,Lattitude,Longtitude,Regionname,Propertycount,Coordinates'\n",
    "dfg=dfg.split(',')\n",
    "c=pd.read_csv('data/melb_data.csv')\n",
    "display(c.columns)\n",
    "#display(c.YearBuilt)\n",
    "#c['YearBuilt']=c['YearBuilt'].astype('int64')\n",
    "print('######')\n",
    "#display(c.CouncilArea)\n",
    "print(c['Suburb'].value_counts())\n",
    "#display(c['Suburb'][5000:10000])\n",
    "print('++++++++')\n",
    "display(c.describe(include=['object']).loc[:,['CouncilArea']])\n",
    "#display(c['CouncilArea'].value_counts(dropna=False))\n",
    "display(c.describe().loc[:,['Price']])\n",
    "display(c.describe(include=['object']))\n",
    "display(c.describe())\n",
    "display(c.isna().sum())\n",
    "print('----')\n",
    "\n"
   ]
  },
  {
   "cell_type": "code",
   "execution_count": 104,
   "metadata": {},
   "outputs": [
    {
     "data": {
      "text/plain": [
       "Index(['index', 'Suburb', 'Address', 'Rooms', 'Type', 'Price', 'Method',\n",
       "       'SellerG', 'Date', 'Distance', 'Postcode', 'Bedroom', 'Bathroom', 'Car',\n",
       "       'Landsize', 'BuildingArea', 'YearBuilt', 'CouncilArea', 'Lattitude',\n",
       "       'Longtitude', 'Regionname', 'Propertycount', 'Coordinates'],\n",
       "      dtype='object')"
      ]
     },
     "metadata": {},
     "output_type": "display_data"
    },
    {
     "data": {
      "text/plain": [
       "h    9449\n",
       "u    3017\n",
       "t    1114\n",
       "Name: Type, dtype: int64"
      ]
     },
     "metadata": {},
     "output_type": "display_data"
    },
    {
     "name": "stdout",
     "output_type": "stream",
     "text": [
      "1114\n",
      "----\n",
      "8.203240058910161\n"
     ]
    }
   ],
   "source": [
    "#6.9\n",
    "import pandas as pd\n",
    "c=pd.read_csv('data/melb_data.csv')\n",
    "display(c.columns)\n",
    "#display(c)\n",
    "display(c['Type'].value_counts())\n",
    "g=c['Type'].value_counts().loc[lambda x: x > 6000]\n",
    "all=(c['Type'].value_counts().sum())\n",
    "g=c['Type'].value_counts().loc['t']\n",
    "print(g)\n",
    "print('----')\n",
    "sj=g/(all/100)\n",
    "print(sj)\n",
    "#display(c[['Suburb','YearBuilt','Coordinates']])\n",
    "#display(c[['Suburb','YearBuilt','Coordinates']][1000:1100])\n"
   ]
  }
 ],
 "metadata": {
  "interpreter": {
   "hash": "6d29b40548cbf5ad3c06164e601114e20fac0dd21d3ea15c1b85aadaf62f7962"
  },
  "kernelspec": {
   "display_name": "Python 3.9.10 64-bit",
   "language": "python",
   "name": "python3"
  },
  "language_info": {
   "codemirror_mode": {
    "name": "ipython",
    "version": 3
   },
   "file_extension": ".py",
   "mimetype": "text/x-python",
   "name": "python",
   "nbconvert_exporter": "python",
   "pygments_lexer": "ipython3",
   "version": "3.9.10"
  },
  "orig_nbformat": 4
 },
 "nbformat": 4,
 "nbformat_minor": 2
}
