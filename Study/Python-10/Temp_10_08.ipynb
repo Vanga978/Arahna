{
 "cells": [
  {
   "cell_type": "code",
   "execution_count": null,
   "metadata": {},
   "outputs": [],
   "source": [
    "import pandas as pd\n",
    "dfg='index,Suburb,Address,Rooms,Type,Price,Method,SellerG,Date,Distance,Postcode,Bedroom,Bathroom,Car,Landsize,BuildingArea,YearBuilt,CouncilArea,Lattitude,Longtitude,Regionname,Propertycount,Coordinates'\n",
    "dfg=dfg.split(',')\n",
    "c=pd.read_csv('data/melb_data.csv')\n",
    "#c=pd.read_csv('data/melb_data.csv',names=dfg)\n",
    "#display(c)\n",
    "display(c.columns) #Список индексов\n",
    "#display(c)\n",
    "#display(c['Car'].head())\n",
    "#display(c.Car.head())\n",
    "display(c['Car'].count()) #Количество ненулевых значений\n",
    "c[c['Price']>10].head(3) #Три первых строки с заголовком только с условием > = <\n",
    "\n",
    "\n",
    "print('---')\n",
    "\n",
    "c[(c['Car']==10)|(c['Car']==9)].shape[0] # Знак | - или выводит оба значения в сумме\n",
    "c[c['Rooms']==3].shape[0] # Количество значений по строкам\n",
    "c[c['Price']>300000].shape[0] # Количество значений по строкам\n",
    "print('====')\n",
    "display(c[c['Type']=='t'].shape[0])\n",
    "display(c[c['Type']=='t']['Rooms'])\n",
    "display(c['Type'].value_counts()) #Вывод уникальных значений столбца\n",
    "display(c['Type'])"
   ]
  },
  {
   "cell_type": "code",
   "execution_count": 292,
   "metadata": {},
   "outputs": [
    {
     "data": {
      "text/plain": [
       "Index(['index', 'Suburb', 'Address', 'Rooms', 'Type', 'Price', 'Method',\n",
       "       'SellerG', 'Date', 'Distance', 'Postcode', 'Bedroom', 'Bathroom', 'Car',\n",
       "       'Landsize', 'BuildingArea', 'YearBuilt', 'CouncilArea', 'Lattitude',\n",
       "       'Longtitude', 'Regionname', 'Propertycount', 'Coordinates'],\n",
       "      dtype='object')"
      ]
     },
     "metadata": {},
     "output_type": "display_data"
    },
    {
     "data": {
      "text/plain": [
       "0    Northern Metropolitan\n",
       "Name: Regionname, dtype: object"
      ]
     },
     "execution_count": 292,
     "metadata": {},
     "output_type": "execute_result"
    }
   ],
   "source": [
    "import pandas as pd\n",
    "dfg='index,Suburb,Address,Rooms,Type,Price,Method,SellerG,Date,Distance,Postcode,Bedroom,Bathroom,Car,Landsize,BuildingArea,YearBuilt,CouncilArea,Lattitude,Longtitude,Regionname,Propertycount,Coordinates'\n",
    "dfg=dfg.split(',')\n",
    "c=pd.read_csv('data/melb_data.csv')\n",
    "display(c.columns)\n",
    "c[c['Bathroom']==0].shape[0]\n",
    "c['Bathroom'].value_counts()\n",
    "c[(c['SellerG']=='Nelson')&(c['Price']>3000000)].shape[0] # 8.2\n",
    "#c['BuildingArea']\n",
    "#c[(c['Price'].mean())&(c['Price']>3000000)].shape[0]\n",
    "#a=c['Price'].min()\n",
    "\n",
    "c[(c['Price']==c['Price'].min())&(c['BuildingArea']==0)].shape[0]\n",
    "c[c['BuildingArea']==0].shape[0]\n",
    "c[c['Price']==85000]\n",
    "c[c['BuildingArea']==0]['Price'].min() #8.3\n",
    "\n",
    "c[(c['Price']<1e6) & ((c['Rooms']>5) | (c['YearBuilt'] > 2015))]['Price'].mean() # Из подсказки\n",
    "\n",
    "c[((c['Rooms']>5)|(c['YearBuilt']>2015))&(c['Price']<1000000)]['Price'].mean() # 8.4\n",
    "\n",
    "#c['Regionname']   c['Price']<3000000   c['Type']=='h'\n",
    "\n",
    "c[(c['Price']<3000000)&(c['Type']=='h')]['Regionname'].mode() # 8.5\n",
    "#c[c['Type']=='h'].shape[0]\n",
    "#c[(c['Price']<3000000)].shape[0]\n",
    "#c['Regionname'].mode()\n"
   ]
  }
 ],
 "metadata": {
  "interpreter": {
   "hash": "6d29b40548cbf5ad3c06164e601114e20fac0dd21d3ea15c1b85aadaf62f7962"
  },
  "kernelspec": {
   "display_name": "Python 3.9.10 64-bit",
   "language": "python",
   "name": "python3"
  },
  "language_info": {
   "codemirror_mode": {
    "name": "ipython",
    "version": 3
   },
   "file_extension": ".py",
   "mimetype": "text/x-python",
   "name": "python",
   "nbconvert_exporter": "python",
   "pygments_lexer": "ipython3",
   "version": "3.9.10"
  },
  "orig_nbformat": 4
 },
 "nbformat": 4,
 "nbformat_minor": 2
}
