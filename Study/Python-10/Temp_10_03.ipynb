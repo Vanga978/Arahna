{
 "cells": [
  {
   "cell_type": "code",
   "execution_count": null,
   "metadata": {},
   "outputs": [],
   "source": [
    "import pandas as pd\n",
    "countries_df = pd.DataFrame({'country': ['Англия', 'Канада', 'США', 'Россия', 'Украина', 'Беларусь', 'Казахстан'],\n",
    "'population': [56.29, 38.05, 322.28, 146.24, 45.5, 9.5, 17.04],\n",
    "'square': [133396, 9984670, 9826630, 17125191, 603628, 207600, 2724902],'index':['UK', 'CA', 'US', 'RU', 'UA', 'BY', 'KZ']})\n",
    "countries_df.index=['UK', 'CA', 'US', 'RU', 'UA', 'BY', 'KZ']\n",
    "display(countries_df)"
   ]
  },
  {
   "cell_type": "code",
   "execution_count": 53,
   "metadata": {},
   "outputs": [
    {
     "name": "stdout",
     "output_type": "stream",
     "text": [
      "      country  population    square\n",
      "UK     Англия       56.29    133396\n",
      "CA     Канада       38.05   9984670\n",
      "US        США      322.28   9826630\n",
      "RU     Россия      146.24  17125191\n",
      "UA    Украина       45.50    603628\n",
      "BY   Беларусь        9.50    207600\n",
      "KZ  Казахстан       17.04   2724902\n"
     ]
    }
   ],
   "source": [
    "import pandas as pd\n",
    "countries_df = pd.DataFrame(\n",
    "    data = [\n",
    "        ['Англия', 56.29, 133396],\n",
    "        ['Канада', 38.05, 9984670],\n",
    "        ['США', 322.28, 9826630],\n",
    "        ['Россия', 146.24, 17125191],\n",
    "        ['Украина', 45.5, 603628],\n",
    "        ['Беларусь', 9.5, 207600],\n",
    "        ['Казахстан', 17.04, 2724902]\n",
    "    ],\n",
    "    columns= ['country', 'population', 'square'],\n",
    "    index = ['UK', 'CA', 'US', 'RU', 'UA', 'BY', 'KZ']\n",
    ")\n",
    "#display(countries_df)\n",
    "print(countries_df)\n",
    "#print(countries_df.mean(axis=1))\n",
    "#print(countries_df.population)\n",
    "#print(countries_df.country)\n",
    "#display(countries_df.country)\n",
    "#print(countries_df.loc[['UK','KZ'],['square','population']])\n",
    "#print(countries_df.iloc[1:5,1:3])\n",
    "countries_df.to_csv('data/countries.csv',index=False,sep=';')\n",
    "\n"
   ]
  },
  {
   "cell_type": "code",
   "execution_count": null,
   "metadata": {},
   "outputs": [],
   "source": [
    "import pandas as pd\n",
    "a=pd.DataFrame({'A':[0,1],'B':[1,0]})\n",
    "print(a)\n",
    "display(a)"
   ]
  },
  {
   "cell_type": "code",
   "execution_count": null,
   "metadata": {},
   "outputs": [],
   "source": [
    "import pandas as pd\n",
    "a=pd.DataFrame(data=[[0,1],[1,0]],columns=['A','B'])\n",
    "print(a)"
   ]
  },
  {
   "cell_type": "code",
   "execution_count": null,
   "metadata": {},
   "outputs": [],
   "source": [
    "import pandas as pd\n",
    "a=[478,512,603]\n",
    "b=[156,130,555]\n",
    "c=[413,816,598]\n",
    "d=[2018,2019,2020]\n",
    "df=pd.DataFrame(data=[a,b,c],columns=['income','expenses','ghf'],index=d)\n",
    "print(df)\n",
    "print('---')\n",
    "print(df.iloc[1,0])\n",
    "print('---')\n",
    "print(df.loc[2019,'income'])\n",
    "print('---')\n",
    "print(df.index[0])\n",
    "\n"
   ]
  },
  {
   "cell_type": "code",
   "execution_count": null,
   "metadata": {},
   "outputs": [],
   "source": [
    "import pandas as pd\n",
    "\n",
    "income=[478,512,196]\n",
    "expenses=[156,130,270]\n",
    "years = [2018,2019,2020]\n",
    "df=None\n",
    "\n",
    "def create_companyDF(income,expenses,years):\n",
    "    df=pd.DataFrame({'income':income,'expenses':expenses},index=years)\n",
    "    return df\n",
    "\n",
    "def get_profit(df,year):\n",
    "    if year in years:\n",
    "        profit=df.loc[year,'income']-df.loc[year,'expenses']\n",
    "    else:\n",
    "        return None\n",
    "    return profit\n",
    "    \n",
    "print(create_companyDF(income,expenses,years))\n",
    "print('---')\n",
    "print(get_profit(create_companyDF(income,expenses,years),2018))\n",
    "print(get_profit(create_companyDF(income,expenses,years),2019))\n",
    "print(get_profit(create_companyDF(income,expenses,years),2020))\n",
    "print(get_profit(create_companyDF(income,expenses,years),2021))\n"
   ]
  }
 ],
 "metadata": {
  "interpreter": {
   "hash": "6d29b40548cbf5ad3c06164e601114e20fac0dd21d3ea15c1b85aadaf62f7962"
  },
  "kernelspec": {
   "display_name": "Python 3.9.10 64-bit",
   "language": "python",
   "name": "python3"
  },
  "language_info": {
   "codemirror_mode": {
    "name": "ipython",
    "version": 3
   },
   "file_extension": ".py",
   "mimetype": "text/x-python",
   "name": "python",
   "nbconvert_exporter": "python",
   "pygments_lexer": "ipython3",
   "version": "3.9.10"
  },
  "orig_nbformat": 4
 },
 "nbformat": 4,
 "nbformat_minor": 2
}
