{
 "cells": [
  {
   "cell_type": "code",
   "execution_count": null,
   "metadata": {},
   "outputs": [],
   "source": [
    "import pandas as pd\n",
    "c=pd.read_csv('data/melb_data.csv')\n",
    "display(c.columns)\n",
    "#display(c)\n",
    "print(c['Car'].sum())\n",
    "print(c['Car'].mean())\n",
    "g=c['Car'].sum()\n",
    "print(g/13580)\n",
    "print('---')\n",
    "print(c['BuildingArea'].mean())\n",
    "print(c['BuildingArea'].median())\n",
    "print(((c['BuildingArea'].mean()-c['BuildingArea'].median())/c['BuildingArea'].mean())*100)\n",
    "print('----')\n",
    "#print(round(c['Price'].sum()*0.12,2))\n",
    "print(c['Landsize'].sum()/13580)\n",
    "print('====')\n",
    "print(c['Distance'].std())\n",
    "print(int(c['Distance'].std()))\n",
    "print(round(c['Distance'].std()))\n",
    "print('++++')\n",
    "a=[1, 2, 4, 2, 3, 2, 1, 5, 6]\n",
    "a.sort()\n",
    "for i in a:\n",
    "    print(i,'=',a.count(i))\n",
    "\n",
    "\n"
   ]
  },
  {
   "cell_type": "code",
   "execution_count": 89,
   "metadata": {},
   "outputs": [
    {
     "data": {
      "text/plain": [
       "Index(['index', 'Suburb', 'Address', 'Rooms', 'Type', 'Price', 'Method',\n",
       "       'SellerG', 'Date', 'Distance', 'Postcode', 'Bedroom', 'Bathroom', 'Car',\n",
       "       'Landsize', 'BuildingArea', 'YearBuilt', 'CouncilArea', 'Lattitude',\n",
       "       'Longtitude', 'Regionname', 'Propertycount', 'Coordinates'],\n",
       "      dtype='object')"
      ]
     },
     "metadata": {},
     "output_type": "display_data"
    },
    {
     "name": "stdout",
     "output_type": "stream",
     "text": [
      "0    3.0\n",
      "Name: Bedroom, dtype: float64\n"
     ]
    }
   ],
   "source": [
    "import pandas as pd\n",
    "c=pd.read_csv('data/melb_data.csv')\n",
    "display(c.columns)\n",
    "#display(c)\n",
    "print(c['Bedroom'].mode())"
   ]
  }
 ],
 "metadata": {
  "language_info": {
   "name": "python"
  },
  "orig_nbformat": 4
 },
 "nbformat": 4,
 "nbformat_minor": 2
}
