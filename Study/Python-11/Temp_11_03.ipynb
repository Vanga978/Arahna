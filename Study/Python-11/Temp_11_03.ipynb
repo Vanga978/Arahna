{
 "cells": [
  {
   "cell_type": "code",
   "execution_count": null,
   "metadata": {},
   "outputs": [],
   "source": [
    "import pandas as pd\n",
    "f=pd.read_csv('data/melb_data_ps.csv')\n",
    "display(f.columns)\n",
    "display(f.head())\n",
    "display(f[['Date']].head())\n",
    "\n",
    "f['Date']=pd.to_datetime(f['Date'],dayfirst=True)\n",
    "f['MonthSale']=f['Date'].dt.month\n",
    "#f[['Date']].head()\n",
    "f[['MonthSale']].value_counts(normalize=True)\n",
    "f['Date'].dt.date\n",
    "f['Date']\n"
   ]
  },
  {
   "cell_type": "code",
   "execution_count": null,
   "metadata": {},
   "outputs": [],
   "source": [
    "import pandas as pd\n",
    "f=pd.read_csv('data/melb_data_ps.csv')\n",
    "display(f.columns)\n",
    "display(f.head())\n",
    "f['Date']=pd.to_datetime(f['Date'],dayfirst=True)\n",
    "f.drop(['Lattitude','Longtitude','Coordinates'],axis=1,inplace=True)\n",
    "f['WeekdaySale']=f['Date'].dt.dayofweek\n",
    "f.head()\n",
    "weekend_count=f[(f['WeekdaySale']==5)+(f['WeekdaySale']==6)].shape[0]\n",
    "weekend_count #3.3"
   ]
  },
  {
   "cell_type": "code",
   "execution_count": null,
   "metadata": {},
   "outputs": [],
   "source": [
    "import pandas as pd\n",
    "k=pd.read_csv('data/ufo.csv')\n",
    "k['Date/Time']=pd.to_datetime(k['Time'],dayfirst=True)\n",
    "display(k.head())\n",
    "print('Всего = ',k['Date/Time'].shape[0])\n",
    "print('Саммый год',k['Date/Time'].dt.year.mode()) # 3.4\n",
    "k['Date']=k['Date/Time'].dt.date\n",
    "print('---')\n",
    "display(k.head())\n",
    "print(type(k['Date/Time']))\n",
    "print(type(k['Date']))\n",
    "k[k['State']=='NV'].shape[0] # Всего в Неваде\n",
    "k['Date']=pd.to_datetime(k['Date'],dayfirst=True)\n",
    "k['Year']=k['Date'].dt.year\n",
    "display(k.head())\n",
    "#k['Year']=pd.to_datetime(k['Date/Time'],exact=False,format=\"%m/%Y\") # Разобрать!!!!!!!!\n",
    "#k[k['Year'] == '1970-01-01 00:00:00.000001950']\n",
    "k['Delta']=k['Date'].diff()\n",
    "k['Delta']=k['Delta'].dt.days\n",
    "display(k.head())\n",
    "k[k['State']=='NV']['Delta'].mean() #3.5 Неправильно, нельзя diff() использовать по отдельности\n",
    "\n"
   ]
  },
  {
   "cell_type": "code",
   "execution_count": null,
   "metadata": {},
   "outputs": [],
   "source": [
    "import pandas as pd\n",
    "k=pd.read_csv('data/ufo.csv')\n",
    "k['Time']=pd.to_datetime(k['Time'],dayfirst=True)\n",
    "display(k.head())\n",
    "k['Date'] = k['Time'].dt.date\n",
    "display(k.head())\n",
    "round(k[k['State']=='NV']['Date'].diff().dt.days.mean()) #3.5 Правильно, но нельзя diff() использовать по отдельности\n"
   ]
  }
 ],
 "metadata": {
  "interpreter": {
   "hash": "6d29b40548cbf5ad3c06164e601114e20fac0dd21d3ea15c1b85aadaf62f7962"
  },
  "kernelspec": {
   "display_name": "Python 3.9.10 64-bit",
   "language": "python",
   "name": "python3"
  },
  "language_info": {
   "codemirror_mode": {
    "name": "ipython",
    "version": 3
   },
   "file_extension": ".py",
   "mimetype": "text/x-python",
   "name": "python",
   "nbconvert_exporter": "python",
   "pygments_lexer": "ipython3",
   "version": "3.9.10"
  },
  "orig_nbformat": 4
 },
 "nbformat": 4,
 "nbformat_minor": 2
}
