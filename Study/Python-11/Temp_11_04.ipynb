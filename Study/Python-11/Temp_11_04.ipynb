{
 "cells": [
  {
   "cell_type": "code",
   "execution_count": null,
   "metadata": {},
   "outputs": [],
   "source": [
    "import pandas as pd\n",
    "c=pd.read_csv('data/melb_data.csv')\n",
    "display(c['Address'].unique())\n",
    "display(c.columns)\n",
    "display(c.head())\n",
    "\n",
    "c['Address'].loc[177]\n",
    "c['Address'].loc[1812]\n",
    "c['Address'].loc[9001]\n",
    "\n",
    "def get_street_type(address):\n",
    "    exclude_list = ['N', 'S', 'W', 'E']\n",
    "    address_list = address.split(' ')\n",
    "    street_type = address_list[-1]\n",
    "    if street_type in exclude_list:\n",
    "        street_type = address_list[-2]\n",
    "    return street_type\n",
    "\n",
    "get_street_type(c['Address'].loc[177])\n",
    "get_street_type(c['Address'].loc[1812])\n",
    "get_street_type(c['Address'].loc[9001])\n",
    "\n",
    "c['StreetType']=c['Address'].apply(get_street_type)\n",
    "\n",
    "c['Address'].nunique()\n",
    "c['Address'].value_counts().head(10)\n",
    "popular=c['StreetType'].value_counts().nlargest(10).index\n",
    "c['StreetType']=c['StreetType'].apply(lambda x: x if x in popular else 'other')\n",
    "print(popular)\n",
    "c['StreetType'].value_counts().shape[0]\n",
    "# Крайне желательно выполнить задание в зеленом поле\n"
   ]
  },
  {
   "cell_type": "code",
   "execution_count": null,
   "metadata": {},
   "outputs": [],
   "source": [
    "import pandas as pd\n",
    "f=pd.read_csv('data/melb_data_ps.csv')\n",
    "display(f.columns)\n",
    "display(f.head(2))\n",
    "f['Date']=pd.to_datetime(f['Date'],dayfirst=True)\n",
    "f.drop(['Lattitude','Longtitude','Coordinates'],axis=1,inplace=True)\n",
    "f['WeekdaySale']=f['Date'].dt.dayofweek\n",
    "f.head()\n",
    "weekend_count=f[(f['WeekdaySale']==5)+(f['WeekdaySale']==6)].shape[0]\n",
    "weekend_count #3.3\n",
    "display(f.head(2))\n",
    "display(f['WeekdaySale'].value_counts())\n",
    "def get_weekend(weekday):\n",
    "    if weekday == 5:\n",
    "        weekday=1\n",
    "    elif weekday ==6:\n",
    "        weekday=1\n",
    "    else:\n",
    "        weekday=0\n",
    "    return weekday\n",
    "\n",
    "f['Weekend']=f['WeekdaySale'].apply(get_weekend)\n",
    "round(f[f['Weekend']==1]['Price'].mean()) # 4.2\n"
   ]
  },
  {
   "cell_type": "code",
   "execution_count": null,
   "metadata": {},
   "outputs": [],
   "source": [
    "import pandas as pd\n",
    "f=pd.read_csv('data/melb_data_ps.csv')\n",
    "display(f.columns)\n",
    "display(f.head(2))\n",
    "list49=f['SellerG'].value_counts().nlargest(49).index\n",
    "list49=list(list49)\n",
    "display(f['SellerG'].value_counts().nlargest(49).index)\n",
    "\n",
    "def brut(sel):\n",
    "    if sel not in list49:\n",
    "        return 'other'\n",
    "    else:\n",
    "        return sel\n",
    "\n",
    "\n",
    "f['L49']=f['SellerG'].apply(brut)\n",
    "print('----')\n",
    "oz=f[f['L49']=='other']['Price'].min()\n",
    "ne=f[f['L49']=='Nelson']['Price'].min()\n",
    "round(ne/oz,1) # 4.3  Отличается от эталона\n",
    "\n"
   ]
  },
  {
   "cell_type": "code",
   "execution_count": 159,
   "metadata": {},
   "outputs": [
    {
     "name": "stdout",
     "output_type": "stream",
     "text": [
      "16\n",
      "<class 'list'>\n",
      "<class 'int'>\n",
      "6\n",
      "<class 'list'>\n",
      "<class 'int'>\n",
      "2\n",
      "<class 'list'>\n",
      "<class 'int'>\n",
      "<class 'list'>\n"
     ]
    },
    {
     "ename": "UnboundLocalError",
     "evalue": "local variable 'kdf' referenced before assignment",
     "output_type": "error",
     "traceback": [
      "\u001b[1;31m---------------------------------------------------------------------------\u001b[0m",
      "\u001b[1;31mUnboundLocalError\u001b[0m                         Traceback (most recent call last)",
      "\u001b[1;32md:\\IDE\\Study\\Python-11\\Temp_11_04.ipynb Cell 4'\u001b[0m in \u001b[0;36m<cell line: 28>\u001b[1;34m()\u001b[0m\n\u001b[0;32m     <a href='vscode-notebook-cell:/d%3A/IDE/Study/Python-11/Temp_11_04.ipynb#ch0000003?line=22'>23</a>\u001b[0m     \u001b[39mprint\u001b[39m(\u001b[39mtype\u001b[39m(kdf))\n\u001b[0;32m     <a href='vscode-notebook-cell:/d%3A/IDE/Study/Python-11/Temp_11_04.ipynb#ch0000003?line=24'>25</a>\u001b[0m     \u001b[39mreturn\u001b[39;00m sdf\n\u001b[1;32m---> <a href='vscode-notebook-cell:/d%3A/IDE/Study/Python-11/Temp_11_04.ipynb#ch0000003?line=27'>28</a>\u001b[0m experience_month \u001b[39m=\u001b[39m experience_col\u001b[39m.\u001b[39;49mapply(get_experience)\n\u001b[0;32m     <a href='vscode-notebook-cell:/d%3A/IDE/Study/Python-11/Temp_11_04.ipynb#ch0000003?line=28'>29</a>\u001b[0m \u001b[39mprint\u001b[39m(experience_month)\n",
      "File \u001b[1;32m~\\AppData\\Local\\Programs\\Python\\Python39\\lib\\site-packages\\pandas\\core\\series.py:4433\u001b[0m, in \u001b[0;36mSeries.apply\u001b[1;34m(self, func, convert_dtype, args, **kwargs)\u001b[0m\n\u001b[0;32m   <a href='file:///c%3A/Users/Vagabond/AppData/Local/Programs/Python/Python39/lib/site-packages/pandas/core/series.py?line=4322'>4323</a>\u001b[0m \u001b[39mdef\u001b[39;00m \u001b[39mapply\u001b[39m(\n\u001b[0;32m   <a href='file:///c%3A/Users/Vagabond/AppData/Local/Programs/Python/Python39/lib/site-packages/pandas/core/series.py?line=4323'>4324</a>\u001b[0m     \u001b[39mself\u001b[39m,\n\u001b[0;32m   <a href='file:///c%3A/Users/Vagabond/AppData/Local/Programs/Python/Python39/lib/site-packages/pandas/core/series.py?line=4324'>4325</a>\u001b[0m     func: AggFuncType,\n\u001b[1;32m   (...)\u001b[0m\n\u001b[0;32m   <a href='file:///c%3A/Users/Vagabond/AppData/Local/Programs/Python/Python39/lib/site-packages/pandas/core/series.py?line=4327'>4328</a>\u001b[0m     \u001b[39m*\u001b[39m\u001b[39m*\u001b[39mkwargs,\n\u001b[0;32m   <a href='file:///c%3A/Users/Vagabond/AppData/Local/Programs/Python/Python39/lib/site-packages/pandas/core/series.py?line=4328'>4329</a>\u001b[0m ) \u001b[39m-\u001b[39m\u001b[39m>\u001b[39m DataFrame \u001b[39m|\u001b[39m Series:\n\u001b[0;32m   <a href='file:///c%3A/Users/Vagabond/AppData/Local/Programs/Python/Python39/lib/site-packages/pandas/core/series.py?line=4329'>4330</a>\u001b[0m     \u001b[39m\"\"\"\u001b[39;00m\n\u001b[0;32m   <a href='file:///c%3A/Users/Vagabond/AppData/Local/Programs/Python/Python39/lib/site-packages/pandas/core/series.py?line=4330'>4331</a>\u001b[0m \u001b[39m    Invoke function on values of Series.\u001b[39;00m\n\u001b[0;32m   <a href='file:///c%3A/Users/Vagabond/AppData/Local/Programs/Python/Python39/lib/site-packages/pandas/core/series.py?line=4331'>4332</a>\u001b[0m \n\u001b[1;32m   (...)\u001b[0m\n\u001b[0;32m   <a href='file:///c%3A/Users/Vagabond/AppData/Local/Programs/Python/Python39/lib/site-packages/pandas/core/series.py?line=4430'>4431</a>\u001b[0m \u001b[39m    dtype: float64\u001b[39;00m\n\u001b[0;32m   <a href='file:///c%3A/Users/Vagabond/AppData/Local/Programs/Python/Python39/lib/site-packages/pandas/core/series.py?line=4431'>4432</a>\u001b[0m \u001b[39m    \"\"\"\u001b[39;00m\n\u001b[1;32m-> <a href='file:///c%3A/Users/Vagabond/AppData/Local/Programs/Python/Python39/lib/site-packages/pandas/core/series.py?line=4432'>4433</a>\u001b[0m     \u001b[39mreturn\u001b[39;00m SeriesApply(\u001b[39mself\u001b[39;49m, func, convert_dtype, args, kwargs)\u001b[39m.\u001b[39;49mapply()\n",
      "File \u001b[1;32m~\\AppData\\Local\\Programs\\Python\\Python39\\lib\\site-packages\\pandas\\core\\apply.py:1082\u001b[0m, in \u001b[0;36mSeriesApply.apply\u001b[1;34m(self)\u001b[0m\n\u001b[0;32m   <a href='file:///c%3A/Users/Vagabond/AppData/Local/Programs/Python/Python39/lib/site-packages/pandas/core/apply.py?line=1077'>1078</a>\u001b[0m \u001b[39mif\u001b[39;00m \u001b[39misinstance\u001b[39m(\u001b[39mself\u001b[39m\u001b[39m.\u001b[39mf, \u001b[39mstr\u001b[39m):\n\u001b[0;32m   <a href='file:///c%3A/Users/Vagabond/AppData/Local/Programs/Python/Python39/lib/site-packages/pandas/core/apply.py?line=1078'>1079</a>\u001b[0m     \u001b[39m# if we are a string, try to dispatch\u001b[39;00m\n\u001b[0;32m   <a href='file:///c%3A/Users/Vagabond/AppData/Local/Programs/Python/Python39/lib/site-packages/pandas/core/apply.py?line=1079'>1080</a>\u001b[0m     \u001b[39mreturn\u001b[39;00m \u001b[39mself\u001b[39m\u001b[39m.\u001b[39mapply_str()\n\u001b[1;32m-> <a href='file:///c%3A/Users/Vagabond/AppData/Local/Programs/Python/Python39/lib/site-packages/pandas/core/apply.py?line=1081'>1082</a>\u001b[0m \u001b[39mreturn\u001b[39;00m \u001b[39mself\u001b[39;49m\u001b[39m.\u001b[39;49mapply_standard()\n",
      "File \u001b[1;32m~\\AppData\\Local\\Programs\\Python\\Python39\\lib\\site-packages\\pandas\\core\\apply.py:1137\u001b[0m, in \u001b[0;36mSeriesApply.apply_standard\u001b[1;34m(self)\u001b[0m\n\u001b[0;32m   <a href='file:///c%3A/Users/Vagabond/AppData/Local/Programs/Python/Python39/lib/site-packages/pandas/core/apply.py?line=1130'>1131</a>\u001b[0m         values \u001b[39m=\u001b[39m obj\u001b[39m.\u001b[39mastype(\u001b[39mobject\u001b[39m)\u001b[39m.\u001b[39m_values\n\u001b[0;32m   <a href='file:///c%3A/Users/Vagabond/AppData/Local/Programs/Python/Python39/lib/site-packages/pandas/core/apply.py?line=1131'>1132</a>\u001b[0m         \u001b[39m# error: Argument 2 to \"map_infer\" has incompatible type\u001b[39;00m\n\u001b[0;32m   <a href='file:///c%3A/Users/Vagabond/AppData/Local/Programs/Python/Python39/lib/site-packages/pandas/core/apply.py?line=1132'>1133</a>\u001b[0m         \u001b[39m# \"Union[Callable[..., Any], str, List[Union[Callable[..., Any], str]],\u001b[39;00m\n\u001b[0;32m   <a href='file:///c%3A/Users/Vagabond/AppData/Local/Programs/Python/Python39/lib/site-packages/pandas/core/apply.py?line=1133'>1134</a>\u001b[0m         \u001b[39m# Dict[Hashable, Union[Union[Callable[..., Any], str],\u001b[39;00m\n\u001b[0;32m   <a href='file:///c%3A/Users/Vagabond/AppData/Local/Programs/Python/Python39/lib/site-packages/pandas/core/apply.py?line=1134'>1135</a>\u001b[0m         \u001b[39m# List[Union[Callable[..., Any], str]]]]]\"; expected\u001b[39;00m\n\u001b[0;32m   <a href='file:///c%3A/Users/Vagabond/AppData/Local/Programs/Python/Python39/lib/site-packages/pandas/core/apply.py?line=1135'>1136</a>\u001b[0m         \u001b[39m# \"Callable[[Any], Any]\"\u001b[39;00m\n\u001b[1;32m-> <a href='file:///c%3A/Users/Vagabond/AppData/Local/Programs/Python/Python39/lib/site-packages/pandas/core/apply.py?line=1136'>1137</a>\u001b[0m         mapped \u001b[39m=\u001b[39m lib\u001b[39m.\u001b[39;49mmap_infer(\n\u001b[0;32m   <a href='file:///c%3A/Users/Vagabond/AppData/Local/Programs/Python/Python39/lib/site-packages/pandas/core/apply.py?line=1137'>1138</a>\u001b[0m             values,\n\u001b[0;32m   <a href='file:///c%3A/Users/Vagabond/AppData/Local/Programs/Python/Python39/lib/site-packages/pandas/core/apply.py?line=1138'>1139</a>\u001b[0m             f,  \u001b[39m# type: ignore[arg-type]\u001b[39;49;00m\n\u001b[0;32m   <a href='file:///c%3A/Users/Vagabond/AppData/Local/Programs/Python/Python39/lib/site-packages/pandas/core/apply.py?line=1139'>1140</a>\u001b[0m             convert\u001b[39m=\u001b[39;49m\u001b[39mself\u001b[39;49m\u001b[39m.\u001b[39;49mconvert_dtype,\n\u001b[0;32m   <a href='file:///c%3A/Users/Vagabond/AppData/Local/Programs/Python/Python39/lib/site-packages/pandas/core/apply.py?line=1140'>1141</a>\u001b[0m         )\n\u001b[0;32m   <a href='file:///c%3A/Users/Vagabond/AppData/Local/Programs/Python/Python39/lib/site-packages/pandas/core/apply.py?line=1142'>1143</a>\u001b[0m \u001b[39mif\u001b[39;00m \u001b[39mlen\u001b[39m(mapped) \u001b[39mand\u001b[39;00m \u001b[39misinstance\u001b[39m(mapped[\u001b[39m0\u001b[39m], ABCSeries):\n\u001b[0;32m   <a href='file:///c%3A/Users/Vagabond/AppData/Local/Programs/Python/Python39/lib/site-packages/pandas/core/apply.py?line=1143'>1144</a>\u001b[0m     \u001b[39m# GH#43986 Need to do list(mapped) in order to get treated as nested\u001b[39;00m\n\u001b[0;32m   <a href='file:///c%3A/Users/Vagabond/AppData/Local/Programs/Python/Python39/lib/site-packages/pandas/core/apply.py?line=1144'>1145</a>\u001b[0m     \u001b[39m#  See also GH#25959 regarding EA support\u001b[39;00m\n\u001b[0;32m   <a href='file:///c%3A/Users/Vagabond/AppData/Local/Programs/Python/Python39/lib/site-packages/pandas/core/apply.py?line=1145'>1146</a>\u001b[0m     \u001b[39mreturn\u001b[39;00m obj\u001b[39m.\u001b[39m_constructor_expanddim(\u001b[39mlist\u001b[39m(mapped), index\u001b[39m=\u001b[39mobj\u001b[39m.\u001b[39mindex)\n",
      "File \u001b[1;32m~\\AppData\\Local\\Programs\\Python\\Python39\\lib\\site-packages\\pandas\\_libs\\lib.pyx:2870\u001b[0m, in \u001b[0;36mpandas._libs.lib.map_infer\u001b[1;34m()\u001b[0m\n",
      "\u001b[1;32md:\\IDE\\Study\\Python-11\\Temp_11_04.ipynb Cell 4'\u001b[0m in \u001b[0;36mget_experience\u001b[1;34m(arg)\u001b[0m\n\u001b[0;32m     <a href='vscode-notebook-cell:/d%3A/IDE/Study/Python-11/Temp_11_04.ipynb#ch0000003?line=20'>21</a>\u001b[0m \u001b[39m#    print(sdf)\u001b[39;00m\n\u001b[0;32m     <a href='vscode-notebook-cell:/d%3A/IDE/Study/Python-11/Temp_11_04.ipynb#ch0000003?line=21'>22</a>\u001b[0m     \u001b[39mprint\u001b[39m(\u001b[39mtype\u001b[39m(sdf))\n\u001b[1;32m---> <a href='vscode-notebook-cell:/d%3A/IDE/Study/Python-11/Temp_11_04.ipynb#ch0000003?line=22'>23</a>\u001b[0m     \u001b[39mprint\u001b[39m(\u001b[39mtype\u001b[39m(kdf))\n\u001b[0;32m     <a href='vscode-notebook-cell:/d%3A/IDE/Study/Python-11/Temp_11_04.ipynb#ch0000003?line=24'>25</a>\u001b[0m     \u001b[39mreturn\u001b[39;00m sdf\n",
      "\u001b[1;31mUnboundLocalError\u001b[0m: local variable 'kdf' referenced before assignment"
     ]
    }
   ],
   "source": [
    "import pandas as pd\n",
    "experience_col = pd.Series([\n",
    "        'Опыт работы 8 лет 3 месяца',\n",
    "        'Опыт работы 3 года 5 месяцев',\n",
    "        'Опыт работы 1 год 9 месяцев',\n",
    "        'Опыт работы 3 месяца',\n",
    "        'Опыт работы 6 лет'\n",
    "        ])\n",
    "def get_experience(arg):\n",
    "    a=['лет','года','год']\n",
    "    b=['месяца','месяцев','месяц']\n",
    "    sdf=arg.split(' ')\n",
    "    month=0\n",
    "    year=0\n",
    "    sdf.pop(0)\n",
    "    sdf.pop(0)\n",
    "    if sdf[1] in a:\n",
    "        kdf=int(sdf[0])*2\n",
    "        print(kdf)\n",
    "\n",
    "#    print(sdf)\n",
    "    print(type(sdf))\n",
    "    print(type(kdf))\n",
    "\n",
    "    return sdf\n",
    "\n",
    "\n",
    "experience_month = experience_col.apply(get_experience)\n",
    "print(experience_month)\n",
    "#print(experience_col)\n"
   ]
  }
 ],
 "metadata": {
  "interpreter": {
   "hash": "6d29b40548cbf5ad3c06164e601114e20fac0dd21d3ea15c1b85aadaf62f7962"
  },
  "kernelspec": {
   "display_name": "Python 3.9.10 64-bit",
   "language": "python",
   "name": "python3"
  },
  "language_info": {
   "codemirror_mode": {
    "name": "ipython",
    "version": 3
   },
   "file_extension": ".py",
   "mimetype": "text/x-python",
   "name": "python",
   "nbconvert_exporter": "python",
   "pygments_lexer": "ipython3",
   "version": "3.9.10"
  },
  "orig_nbformat": 4
 },
 "nbformat": 4,
 "nbformat_minor": 2
}
