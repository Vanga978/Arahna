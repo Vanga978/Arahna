{
 "cells": [
  {
   "cell_type": "code",
   "execution_count": null,
   "metadata": {},
   "outputs": [],
   "source": [
    "import pandas as pd\n",
    "c=pd.read_csv('data/melb_data.csv')\n",
    "display(c['Address'].unique())\n",
    "display(c.columns)\n",
    "display(c.head())\n",
    "\n",
    "c['Address'].loc[177]\n",
    "c['Address'].loc[1812]\n",
    "c['Address'].loc[9001]\n",
    "\n",
    "def get_street_type(address):\n",
    "    exclude_list = ['N', 'S', 'W', 'E']\n",
    "    address_list = address.split(' ')\n",
    "    street_type = address_list[-1]\n",
    "    if street_type in exclude_list:\n",
    "        street_type = address_list[-2]\n",
    "    return street_type\n",
    "\n",
    "get_street_type(c['Address'].loc[177])\n",
    "get_street_type(c['Address'].loc[1812])\n",
    "get_street_type(c['Address'].loc[9001])\n",
    "\n",
    "c['StreetType']=c['Address'].apply(get_street_type)\n",
    "\n",
    "c['Address'].nunique()\n",
    "c['Address'].value_counts().head(10)\n",
    "popular=c['StreetType'].value_counts().nlargest(10).index\n",
    "c['StreetType']=c['StreetType'].apply(lambda x: x if x in popular else 'other')\n",
    "print(popular)\n",
    "c['StreetType'].value_counts().shape[0]\n",
    "# Крайне желательно выполнить задание в зеленом поле\n"
   ]
  },
  {
   "cell_type": "code",
   "execution_count": null,
   "metadata": {},
   "outputs": [],
   "source": [
    "import pandas as pd\n",
    "f=pd.read_csv('data/melb_data_ps.csv')\n",
    "display(f.columns)\n",
    "display(f.head(2))\n",
    "f['Date']=pd.to_datetime(f['Date'],dayfirst=True)\n",
    "f.drop(['Lattitude','Longtitude','Coordinates'],axis=1,inplace=True)\n",
    "f['WeekdaySale']=f['Date'].dt.dayofweek\n",
    "f.head()\n",
    "weekend_count=f[(f['WeekdaySale']==5)+(f['WeekdaySale']==6)].shape[0]\n",
    "weekend_count #3.3\n",
    "display(f.head(2))\n",
    "display(f['WeekdaySale'].value_counts())\n",
    "def get_weekend(weekday):\n",
    "    if weekday == 5:\n",
    "        weekday=1\n",
    "    elif weekday ==6:\n",
    "        weekday=1\n",
    "    else:\n",
    "        weekday=0\n",
    "    return weekday\n",
    "\n",
    "f['Weekend']=f['WeekdaySale'].apply(get_weekend)\n",
    "round(f[f['Weekend']==1]['Price'].mean()) # 4.2\n"
   ]
  },
  {
   "cell_type": "code",
   "execution_count": null,
   "metadata": {},
   "outputs": [],
   "source": [
    "import pandas as pd\n",
    "f=pd.read_csv('data/melb_data_ps.csv')\n",
    "display(f.columns)\n",
    "display(f.head(2))\n",
    "list49=f['SellerG'].value_counts().nlargest(49).index\n",
    "list49=list(list49)\n",
    "display(f['SellerG'].value_counts().nlargest(49).index)\n",
    "\n",
    "def brut(sel):\n",
    "    if sel not in list49:\n",
    "        return 'other'\n",
    "    else:\n",
    "        return sel\n",
    "\n",
    "\n",
    "f['L49']=f['SellerG'].apply(brut)\n",
    "print('----')\n",
    "oz=f[f['L49']=='other']['Price'].min()\n",
    "ne=f[f['L49']=='Nelson']['Price'].min()\n",
    "round(ne/oz,1) # 4.3  Отличается от эталона\n",
    "\n"
   ]
  },
  {
   "cell_type": "code",
   "execution_count": 2,
   "metadata": {},
   "outputs": [
    {
     "name": "stdout",
     "output_type": "stream",
     "text": [
      "0    99\n",
      "1    41\n",
      "2    21\n",
      "3     3\n",
      "4    72\n",
      "dtype: int64\n"
     ]
    }
   ],
   "source": [
    "import pandas as pd\n",
    "experience_col = pd.Series([\n",
    "        'Опыт работы 8 лет 3 месяца',\n",
    "        'Опыт работы 3 года 5 месяцев',\n",
    "        'Опыт работы 1 год 9 месяцев',\n",
    "        'Опыт работы 3 месяца',\n",
    "        'Опыт работы 6 лет'\n",
    "        ])\n",
    "def get_experience(arg):\n",
    "    a=['лет','года','год']\n",
    "    b=['месяца','месяцев','месяц']\n",
    "    sdf=arg.split(' ')\n",
    "    month=0\n",
    "    year=0\n",
    "    all=0\n",
    "    sdf.pop(0)\n",
    "    sdf.pop(0)\n",
    "    if sdf[1] in a:\n",
    "        year=int(sdf[0])*12\n",
    "    if sdf[-1] in b:\n",
    "        month=int(sdf[-2])\n",
    "    all=year+month\n",
    "    return all\n",
    "    pass\n",
    "\n",
    "\n",
    "experience_month = experience_col.apply(get_experience)\n",
    "print(experience_month)\n",
    "#print(experience_col) # 4.4\n"
   ]
  }
 ],
 "metadata": {
  "interpreter": {
   "hash": "6d29b40548cbf5ad3c06164e601114e20fac0dd21d3ea15c1b85aadaf62f7962"
  },
  "kernelspec": {
   "display_name": "Python 3.9.10 64-bit",
   "language": "python",
   "name": "python3"
  },
  "language_info": {
   "codemirror_mode": {
    "name": "ipython",
    "version": 3
   },
   "file_extension": ".py",
   "mimetype": "text/x-python",
   "name": "python",
   "nbconvert_exporter": "python",
   "pygments_lexer": "ipython3",
   "version": "3.9.10"
  },
  "orig_nbformat": 4
 },
 "nbformat": 4,
 "nbformat_minor": 2
}
