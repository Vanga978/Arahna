{
 "cells": [
  {
   "cell_type": "code",
   "execution_count": null,
   "metadata": {},
   "outputs": [],
   "source": [
    "\n",
    "\n",
    "import pandas as pd\n",
    "f=pd.read_csv('data/melb_data.csv')\n",
    "display(f.columns)\n",
    "display(f.head(3))\n",
    "\n",
    "# Пример подсчета уникальных значений по столбцам\n",
    "\n",
    "unique_list=[]\n",
    "for col in f.columns:\n",
    "    # создаём кортеж (имя столбца, число уникальных значений)\n",
    "    item = (col, f[col].nunique(),f[col].dtype) \n",
    "    # добавляем кортеж в список\n",
    "    unique_list.append(item) \n",
    "# создаём вспомогательную таблицу и сортируем её\n",
    "unique_counts = pd.DataFrame(\n",
    "    unique_list,\n",
    "    columns=['Column_Name', 'Num_Unique', 'Type']\n",
    ").sort_values(by='Num_Unique',  ignore_index=True)\n",
    "# выводим её на экран\n",
    "unique_counts\n",
    "\n",
    "# Конец примера\n",
    "\n",
    "# Пример смены категории столбцов по заданному условию\n",
    "\n",
    "cols_to_exclude = ['Date', 'Rooms', 'Bedroom', 'Bathroom', 'Car'] # список столбцов, которые мы не берём во внимание\n",
    "max_unique_count = 150 # задаём максимальное число уникальных категорий\n",
    "for col in f.columns: # цикл по именам столбцов\n",
    "    if f[col].nunique() < max_unique_count and col not in cols_to_exclude: # проверяем условие\n",
    "        f[col] = f[col].astype('category') # преобразуем тип столбца\n",
    "#f.info()\n",
    "\n",
    "# Конец примера\n",
    "\n",
    "print('++++++')\n",
    "#f['Regionname'].info()\n",
    "f['Regionname'].value_counts()\n",
    "f['Regionname'].cat.codes\n",
    "f['Method'].describe()\n",
    "#print('++++++')\n",
    "display(f.describe(include=['category']))\n",
    "f['Type']=f['Type'].cat.rename_categories({'u': 'unit',\n",
    "    't': 'townhouse',\n",
    "    'h': 'house'})\n",
    "\n",
    "new_houses_types = pd.Series(['unit', 'house', 'flat', 'flat', 'house'])\n",
    "new_houses_types = new_houses_types.astype(f['Type'].dtype)\n",
    "new_houses_types\n",
    "f.info()\n",
    "\n",
    "\n"
   ]
  }
 ],
 "metadata": {
  "interpreter": {
   "hash": "6d29b40548cbf5ad3c06164e601114e20fac0dd21d3ea15c1b85aadaf62f7962"
  },
  "kernelspec": {
   "display_name": "Python 3.9.10 64-bit",
   "language": "python",
   "name": "python3"
  },
  "language_info": {
   "codemirror_mode": {
    "name": "ipython",
    "version": 3
   },
   "file_extension": ".py",
   "mimetype": "text/x-python",
   "name": "python",
   "nbconvert_exporter": "python",
   "pygments_lexer": "ipython3",
   "version": "3.9.10"
  },
  "orig_nbformat": 4
 },
 "nbformat": 4,
 "nbformat_minor": 2
}
