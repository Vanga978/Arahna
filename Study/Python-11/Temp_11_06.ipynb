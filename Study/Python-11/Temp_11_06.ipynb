{
 "cells": [
  {
   "cell_type": "code",
   "execution_count": 186,
   "metadata": {},
   "outputs": [
    {
     "data": {
      "text/plain": [
       "Index(['starttime', 'stoptime', 'start station id', 'start station name',\n",
       "       'start station latitude', 'start station longitude', 'end station id',\n",
       "       'end station name', 'end station latitude', 'end station longitude',\n",
       "       'bikeid', 'usertype', 'birth year', 'gender'],\n",
       "      dtype='object')"
      ]
     },
     "metadata": {},
     "output_type": "display_data"
    },
    {
     "data": {
      "text/plain": [
       "169"
      ]
     },
     "metadata": {},
     "output_type": "display_data"
    },
    {
     "data": {
      "text/plain": [
       "dtype('float64')"
      ]
     },
     "metadata": {},
     "output_type": "display_data"
    },
    {
     "name": "stdout",
     "output_type": "stream",
     "text": [
      "//////////////\n"
     ]
    },
    {
     "data": {
      "text/plain": [
       "day        143012\n",
       "morning     95530\n",
       "evening     46373\n",
       "night       15085\n",
       "Name: time_of_day, dtype: int64"
      ]
     },
     "metadata": {},
     "output_type": "display_data"
    },
    {
     "data": {
      "text/plain": [
       "9"
      ]
     },
     "execution_count": 186,
     "metadata": {},
     "output_type": "execute_result"
    }
   ],
   "source": [
    "import pandas as pd\n",
    "r=pd.read_csv('data/citibike-tripdata.csv')\n",
    "display(r.columns)\n",
    "#display(r.head(3))\n",
    "r.describe()\n",
    "r.describe(include='object')\n",
    "#r.info()\n",
    "r['start station id'].count()\n",
    "\n",
    "display(r['start station id'].shape[0]-r['start station id'].count()) # 6.1\n",
    "\n",
    "#r['start station id'].info()\n",
    "#r.info()\n",
    "display(r['start station id'].dtype)\n",
    "\n",
    "#r['starttime'].info() # 6.2\n",
    "int(r['start station id'].mode()) #6.3\n",
    "r['bikeid'].mode() # 6.4\n",
    "round(r['usertype'].value_counts(normalize=True),2) # 6.5\n",
    "r[r['gender']==1].shape[0] #6.6\n",
    "\n",
    "print('//////////////')\n",
    "\n",
    "r['start station id'].value_counts() # 6.7 A\n",
    "r['end station id'].value_counts() # 6.7 A\n",
    "2018-r['birth year'].max() # 6.7 B\n",
    "r['start station name'].value_counts() # 6.7 C\n",
    "r['end station name'].value_counts() # 6.7 D\n",
    "\n",
    "r.drop(['start station id','end station id'],axis=1,inplace=True) # 6.8\n",
    "\n",
    "r['age']=2018-r['birth year']\n",
    "r[r['age']>60].value_counts().shape[0] # 6.9\n",
    "\n",
    "#from datetime import timedelta\n",
    "r.head(2)\n",
    "r['starttime']=pd.to_datetime(r['starttime'])\n",
    "r['stoptime']=pd.to_datetime(r['stoptime'])\n",
    "r['trip duration']=r['stoptime']-r['starttime']\n",
    "#r['trip duration'].dt.time\n",
    "#t.max()\n",
    "#r['trip duration'].max()\n",
    "r.head(2)\n",
    "r['trip duration'].mean().seconds # 6.10\n",
    "\n",
    "r.head(2)\n",
    "r['weekend']=r['starttime'].dt.dayofweek\n",
    "r.head(2)\n",
    "r['weekend'].value_counts()\n",
    "r['weekend']=r['weekend'].apply(lambda x: 1 if x==5 or x==6 else 0)\n",
    "r[r['weekend']==1].shape[0]\n",
    "r['weekend'].value_counts() # 6.11\n",
    "\n",
    "#display(r.head(2))\n",
    "r['time_of_day']=r['starttime'].dt.hour\n",
    "#display(r.head(2))\n",
    "#display(r['time_of_day'].value_counts(sort=False))\n",
    "\n",
    "def trm(dret):\n",
    "    if dret < 7:\n",
    "        dret = 'night'\n",
    "    elif dret > 6 and dret < 13:\n",
    "        dret = 'morning'\n",
    "    elif dret > 12 and dret < 19:\n",
    "        dret = 'day'\n",
    "    elif dret > 18:\n",
    "        dret = 'evening'\n",
    "    return dret\n",
    "\n",
    "r['time_of_day']=r['time_of_day'].apply(trm)\n",
    "display(r['time_of_day'].value_counts())\n",
    "d=r[r['time_of_day']=='day'].shape[0]\n",
    "n=r[r['time_of_day']=='night'].shape[0]\n",
    "round(d/n)\n"
   ]
  }
 ],
 "metadata": {
  "interpreter": {
   "hash": "6d29b40548cbf5ad3c06164e601114e20fac0dd21d3ea15c1b85aadaf62f7962"
  },
  "kernelspec": {
   "display_name": "Python 3.9.10 64-bit",
   "language": "python",
   "name": "python3"
  },
  "language_info": {
   "codemirror_mode": {
    "name": "ipython",
    "version": 3
   },
   "file_extension": ".py",
   "mimetype": "text/x-python",
   "name": "python",
   "nbconvert_exporter": "python",
   "pygments_lexer": "ipython3",
   "version": "3.9.10"
  },
  "orig_nbformat": 4
 },
 "nbformat": 4,
 "nbformat_minor": 2
}
