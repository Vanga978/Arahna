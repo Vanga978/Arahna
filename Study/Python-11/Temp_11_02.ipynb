{
 "cells": [
  {
   "cell_type": "code",
   "execution_count": null,
   "metadata": {},
   "outputs": [],
   "source": [
    "import pandas as pd\n",
    "f=pd.read_csv('data/melb_data_ps.csv')\n",
    "h=pd.read_csv('data/melb_data_ps.csv',sep=',')\n",
    "display(f.columns)\n",
    "ff=f.copy()\n",
    "#display(ff.head())\n",
    "#ff.drop([0,2,3],axis=0,inplace=True)\n",
    "ff.drop(['index','Coordinates'],axis=1,inplace=True)\n",
    "display(ff.head())\n",
    "ff.head()\n",
    "ff.iloc[:,1:5]\n",
    "display(ff[['Rooms','Bedroom','Bathroom']].head())\n",
    "totr=ff['Rooms']+ff['Bedroom']+ff['Bathroom']\n",
    "ff['MeanRoomsSquare']=ff['BuildingArea']/totr\n",
    "ff['AreaRatio']=(ff['BuildingArea']-ff['Landsize'])/(ff['BuildingArea']+ff['Landsize'])\n",
    "ff['AreaRatio'].head()\n",
    "\n",
    "price_square = []\n",
    "for price in ff['Price']:\n",
    "    price_square.append(price**2)\n",
    "price_square = pd.Series(price_square) # 2.1 медленный вариант, потому что цикл \n",
    "\n",
    "price_square = ff['Price'] **2 # 2.1 нормальный\n",
    "\n",
    "\n",
    "\n"
   ]
  },
  {
   "cell_type": "code",
   "execution_count": null,
   "metadata": {},
   "outputs": [],
   "source": [
    "# 2.3\n",
    "import pandas as pd\n",
    "customer_df = pd.DataFrame({\n",
    "        'number': [0, 1, 2, 3, 4],\n",
    "        'cust_id': [128, 1201, 9832, 4392, 7472],\n",
    "        'cust_age': [13, 21, 19, 21, 60],\n",
    "        'cust_sale': [0, 0, 0.2, 0.15, 0.3],\n",
    "        'cust_year_birth': [2008, 2000, 2002, 2000, 1961],\n",
    "        'cust_order': [1400, 14142, 900, 1240, 8430]\n",
    "    })\n",
    "\n",
    "def delete_columns(df,col=[]):\n",
    "    for i in col:\n",
    "        if i not in df.columns:\n",
    "            return None\n",
    "    a=df.drop(col,axis=1)\n",
    "    return a\n",
    "\n",
    "columns_for_delete=['cust_year_birth','cust_age']\n",
    "\n",
    "print(customer_df)\n",
    "print(delete_columns(customer_df,columns_for_delete))\n",
    "\n",
    "\n"
   ]
  },
  {
   "cell_type": "code",
   "execution_count": null,
   "metadata": {},
   "outputs": [],
   "source": [
    "# 2.4\n",
    "import pandas as pd\n",
    "countries_df = pd.DataFrame({\n",
    "    'country': ['Англия', 'Канада', 'США', 'Россия', 'Украина', 'Беларусь', 'Казахстан'],\n",
    "    'population': [56.29, 38.05, 322.28, 146.24, 45.5, 9.5, 17.04],\n",
    "    'square': [133396, 9984670, 9826630, 17125191, 603628, 207600, 2724902]\n",
    "})\n",
    "display(countries_df)\n",
    "a=countries_df['population']*1000000 / countries_df['square']\n",
    "#b=countries_df['square']\n",
    "round(a.mean(),2)"
   ]
  }
 ],
 "metadata": {
  "interpreter": {
   "hash": "6d29b40548cbf5ad3c06164e601114e20fac0dd21d3ea15c1b85aadaf62f7962"
  },
  "kernelspec": {
   "display_name": "Python 3.9.10 64-bit",
   "language": "python",
   "name": "python3"
  },
  "language_info": {
   "codemirror_mode": {
    "name": "ipython",
    "version": 3
   },
   "file_extension": ".py",
   "mimetype": "text/x-python",
   "name": "python",
   "nbconvert_exporter": "python",
   "pygments_lexer": "ipython3",
   "version": "3.9.10"
  },
  "orig_nbformat": 4
 },
 "nbformat": 4,
 "nbformat_minor": 2
}
