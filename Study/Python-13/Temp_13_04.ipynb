{
 "cells": [
  {
   "cell_type": "code",
   "execution_count": 10,
   "metadata": {},
   "outputs": [
    {
     "ename": "ImportError",
     "evalue": "matplotlib is required for plotting when the default backend \"matplotlib\" is selected.",
     "output_type": "error",
     "traceback": [
      "\u001b[1;31m---------------------------------------------------------------------------\u001b[0m",
      "\u001b[1;31mImportError\u001b[0m                               Traceback (most recent call last)",
      "\u001b[1;32md:\\IDE\\Study\\Python-13\\Temp_13_04.ipynb Cell 1'\u001b[0m in \u001b[0;36m<cell line: 23>\u001b[1;34m()\u001b[0m\n\u001b[0;32m     <a href='vscode-notebook-cell:/d%3A/IDE/Study/Python-13/Temp_13_04.ipynb#ch0000000?line=19'>20</a>\u001b[0m covid_df[\u001b[39m'\u001b[39m\u001b[39mrecover_rate\u001b[39m\u001b[39m'\u001b[39m]\u001b[39m=\u001b[39mcovid_df[\u001b[39m'\u001b[39m\u001b[39mrecovered\u001b[39m\u001b[39m'\u001b[39m]\u001b[39m/\u001b[39mcovid_df[\u001b[39m'\u001b[39m\u001b[39mconfirmed\u001b[39m\u001b[39m'\u001b[39m]\u001b[39m*\u001b[39m\u001b[39m100\u001b[39m\n\u001b[0;32m     <a href='vscode-notebook-cell:/d%3A/IDE/Study/Python-13/Temp_13_04.ipynb#ch0000000?line=21'>22</a>\u001b[0m grouped_cases \u001b[39m=\u001b[39m covid_df\u001b[39m.\u001b[39mgroupby(\u001b[39m'\u001b[39m\u001b[39mdate\u001b[39m\u001b[39m'\u001b[39m)[\u001b[39m'\u001b[39m\u001b[39mdaily_confirmed\u001b[39m\u001b[39m'\u001b[39m]\u001b[39m.\u001b[39msum()\n\u001b[1;32m---> <a href='vscode-notebook-cell:/d%3A/IDE/Study/Python-13/Temp_13_04.ipynb#ch0000000?line=22'>23</a>\u001b[0m grouped_cases\u001b[39m.\u001b[39;49mplot(kind\u001b[39m=\u001b[39;49m\u001b[39m'\u001b[39;49m\u001b[39mline\u001b[39;49m\u001b[39m'\u001b[39;49m)\n",
      "File \u001b[1;32m~\\AppData\\Local\\Programs\\Python\\Python39\\lib\\site-packages\\pandas\\plotting\\_core.py:892\u001b[0m, in \u001b[0;36mPlotAccessor.__call__\u001b[1;34m(self, *args, **kwargs)\u001b[0m\n\u001b[0;32m    <a href='file:///c%3A/Users/Vagabond/AppData/Local/Programs/Python/Python39/lib/site-packages/pandas/plotting/_core.py?line=890'>891</a>\u001b[0m \u001b[39mdef\u001b[39;00m \u001b[39m__call__\u001b[39m(\u001b[39mself\u001b[39m, \u001b[39m*\u001b[39margs, \u001b[39m*\u001b[39m\u001b[39m*\u001b[39mkwargs):\n\u001b[1;32m--> <a href='file:///c%3A/Users/Vagabond/AppData/Local/Programs/Python/Python39/lib/site-packages/pandas/plotting/_core.py?line=891'>892</a>\u001b[0m     plot_backend \u001b[39m=\u001b[39m _get_plot_backend(kwargs\u001b[39m.\u001b[39;49mpop(\u001b[39m\"\u001b[39;49m\u001b[39mbackend\u001b[39;49m\u001b[39m\"\u001b[39;49m, \u001b[39mNone\u001b[39;49;00m))\n\u001b[0;32m    <a href='file:///c%3A/Users/Vagabond/AppData/Local/Programs/Python/Python39/lib/site-packages/pandas/plotting/_core.py?line=893'>894</a>\u001b[0m     x, y, kind, kwargs \u001b[39m=\u001b[39m \u001b[39mself\u001b[39m\u001b[39m.\u001b[39m_get_call_args(\n\u001b[0;32m    <a href='file:///c%3A/Users/Vagabond/AppData/Local/Programs/Python/Python39/lib/site-packages/pandas/plotting/_core.py?line=894'>895</a>\u001b[0m         plot_backend\u001b[39m.\u001b[39m\u001b[39m__name__\u001b[39m, \u001b[39mself\u001b[39m\u001b[39m.\u001b[39m_parent, args, kwargs\n\u001b[0;32m    <a href='file:///c%3A/Users/Vagabond/AppData/Local/Programs/Python/Python39/lib/site-packages/pandas/plotting/_core.py?line=895'>896</a>\u001b[0m     )\n\u001b[0;32m    <a href='file:///c%3A/Users/Vagabond/AppData/Local/Programs/Python/Python39/lib/site-packages/pandas/plotting/_core.py?line=897'>898</a>\u001b[0m     kind \u001b[39m=\u001b[39m \u001b[39mself\u001b[39m\u001b[39m.\u001b[39m_kind_aliases\u001b[39m.\u001b[39mget(kind, kind)\n",
      "File \u001b[1;32m~\\AppData\\Local\\Programs\\Python\\Python39\\lib\\site-packages\\pandas\\plotting\\_core.py:1849\u001b[0m, in \u001b[0;36m_get_plot_backend\u001b[1;34m(backend)\u001b[0m\n\u001b[0;32m   <a href='file:///c%3A/Users/Vagabond/AppData/Local/Programs/Python/Python39/lib/site-packages/pandas/plotting/_core.py?line=1845'>1846</a>\u001b[0m \u001b[39mif\u001b[39;00m backend \u001b[39min\u001b[39;00m _backends:\n\u001b[0;32m   <a href='file:///c%3A/Users/Vagabond/AppData/Local/Programs/Python/Python39/lib/site-packages/pandas/plotting/_core.py?line=1846'>1847</a>\u001b[0m     \u001b[39mreturn\u001b[39;00m _backends[backend]\n\u001b[1;32m-> <a href='file:///c%3A/Users/Vagabond/AppData/Local/Programs/Python/Python39/lib/site-packages/pandas/plotting/_core.py?line=1848'>1849</a>\u001b[0m module \u001b[39m=\u001b[39m _load_backend(backend)\n\u001b[0;32m   <a href='file:///c%3A/Users/Vagabond/AppData/Local/Programs/Python/Python39/lib/site-packages/pandas/plotting/_core.py?line=1849'>1850</a>\u001b[0m _backends[backend] \u001b[39m=\u001b[39m module\n\u001b[0;32m   <a href='file:///c%3A/Users/Vagabond/AppData/Local/Programs/Python/Python39/lib/site-packages/pandas/plotting/_core.py?line=1850'>1851</a>\u001b[0m \u001b[39mreturn\u001b[39;00m module\n",
      "File \u001b[1;32m~\\AppData\\Local\\Programs\\Python\\Python39\\lib\\site-packages\\pandas\\plotting\\_core.py:1787\u001b[0m, in \u001b[0;36m_load_backend\u001b[1;34m(backend)\u001b[0m\n\u001b[0;32m   <a href='file:///c%3A/Users/Vagabond/AppData/Local/Programs/Python/Python39/lib/site-packages/pandas/plotting/_core.py?line=1784'>1785</a>\u001b[0m         module \u001b[39m=\u001b[39m importlib\u001b[39m.\u001b[39mimport_module(\u001b[39m\"\u001b[39m\u001b[39mpandas.plotting._matplotlib\u001b[39m\u001b[39m\"\u001b[39m)\n\u001b[0;32m   <a href='file:///c%3A/Users/Vagabond/AppData/Local/Programs/Python/Python39/lib/site-packages/pandas/plotting/_core.py?line=1785'>1786</a>\u001b[0m     \u001b[39mexcept\u001b[39;00m \u001b[39mImportError\u001b[39;00m:\n\u001b[1;32m-> <a href='file:///c%3A/Users/Vagabond/AppData/Local/Programs/Python/Python39/lib/site-packages/pandas/plotting/_core.py?line=1786'>1787</a>\u001b[0m         \u001b[39mraise\u001b[39;00m \u001b[39mImportError\u001b[39;00m(\n\u001b[0;32m   <a href='file:///c%3A/Users/Vagabond/AppData/Local/Programs/Python/Python39/lib/site-packages/pandas/plotting/_core.py?line=1787'>1788</a>\u001b[0m             \u001b[39m\"\u001b[39m\u001b[39mmatplotlib is required for plotting when the \u001b[39m\u001b[39m\"\u001b[39m\n\u001b[0;32m   <a href='file:///c%3A/Users/Vagabond/AppData/Local/Programs/Python/Python39/lib/site-packages/pandas/plotting/_core.py?line=1788'>1789</a>\u001b[0m             \u001b[39m'\u001b[39m\u001b[39mdefault backend \u001b[39m\u001b[39m\"\u001b[39m\u001b[39mmatplotlib\u001b[39m\u001b[39m\"\u001b[39m\u001b[39m is selected.\u001b[39m\u001b[39m'\u001b[39m\n\u001b[0;32m   <a href='file:///c%3A/Users/Vagabond/AppData/Local/Programs/Python/Python39/lib/site-packages/pandas/plotting/_core.py?line=1789'>1790</a>\u001b[0m         ) \u001b[39mfrom\u001b[39;00m \u001b[39mNone\u001b[39m\n\u001b[0;32m   <a href='file:///c%3A/Users/Vagabond/AppData/Local/Programs/Python/Python39/lib/site-packages/pandas/plotting/_core.py?line=1790'>1791</a>\u001b[0m     \u001b[39mreturn\u001b[39;00m module\n\u001b[0;32m   <a href='file:///c%3A/Users/Vagabond/AppData/Local/Programs/Python/Python39/lib/site-packages/pandas/plotting/_core.py?line=1792'>1793</a>\u001b[0m found_backend \u001b[39m=\u001b[39m \u001b[39mFalse\u001b[39;00m\n",
      "\u001b[1;31mImportError\u001b[0m: matplotlib is required for plotting when the default backend \"matplotlib\" is selected."
     ]
    }
   ],
   "source": [
    "import pandas as pd\n",
    "covid_data=pd.read_csv('data/covid_data.csv')\n",
    "vaccinations_data = pd.read_csv('data/country_vaccinations.csv')\n",
    "vaccinations_data = vaccinations_data[\n",
    "    ['country', 'date', 'total_vaccinations', \n",
    "     'people_vaccinated', 'people_vaccinated_per_hundred',\n",
    "     'people_fully_vaccinated', 'people_fully_vaccinated_per_hundred',\n",
    "     'daily_vaccinations', 'vaccines']]\n",
    "\n",
    "covid_data=covid_data.groupby(['date','country'],as_index=False)[['confirmed','deaths','recovered']].sum()\n",
    "covid_data['date'] = pd.to_datetime(covid_data['date'])\n",
    "covid_data['active']=covid_data['confirmed']-covid_data['deaths']-covid_data['recovered']\n",
    "covid_data=covid_data.sort_values(by=['country','date'])\n",
    "covid_data['daily_confirmed'] = covid_data.groupby('country')['confirmed'].diff()\n",
    "covid_data['daily_deaths'] = covid_data.groupby('country')['deaths'].diff()\n",
    "covid_data['daily_recovered'] = covid_data.groupby('country')['recovered'].diff()\n",
    "vaccinations_data['date'] = pd.to_datetime(vaccinations_data['date'])\n",
    "covid_df=covid_data.merge(vaccinations_data,on=['date','country'],how='left')\n",
    "covid_df['death_rate']=covid_df['deaths']/covid_df['confirmed']*100\n",
    "covid_df['recover_rate']=covid_df['recovered']/covid_df['confirmed']*100\n",
    "\n",
    "grouped_cases = covid_df.groupby('date')['daily_confirmed'].sum()\n",
    "grouped_cases.plot(kind='line')"
   ]
  }
 ],
 "metadata": {
  "interpreter": {
   "hash": "6d29b40548cbf5ad3c06164e601114e20fac0dd21d3ea15c1b85aadaf62f7962"
  },
  "kernelspec": {
   "display_name": "Python 3.9.10 64-bit",
   "language": "python",
   "name": "python3"
  },
  "language_info": {
   "codemirror_mode": {
    "name": "ipython",
    "version": 3
   },
   "file_extension": ".py",
   "mimetype": "text/x-python",
   "name": "python",
   "nbconvert_exporter": "python",
   "pygments_lexer": "ipython3",
   "version": "3.9.10"
  },
  "orig_nbformat": 4
 },
 "nbformat": 4,
 "nbformat_minor": 2
}
