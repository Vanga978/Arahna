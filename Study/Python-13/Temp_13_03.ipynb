{
 "cells": [
  {
   "cell_type": "code",
   "execution_count": 10,
   "metadata": {},
   "outputs": [
    {
     "data": {
      "text/plain": [
       "Johnson&Johnson, Moderna, Oxford/AstraZeneca, Pfizer/BioNTech     5396\n",
       "Oxford/AstraZeneca                                                5063\n",
       "Moderna, Oxford/AstraZeneca, Pfizer/BioNTech                      3784\n",
       "Oxford/AstraZeneca, Sinopharm/Beijing                             2868\n",
       "Oxford/AstraZeneca, Pfizer/BioNTech                               2844\n",
       "                                                                  ... \n",
       "Moderna, Oxford/AstraZeneca, Sinovac                               117\n",
       "Abdala, Soberana02                                                 109\n",
       "Covaxin, Oxford/AstraZeneca                                        106\n",
       "Johnson&Johnson                                                     21\n",
       "EpiVacCorona, Oxford/AstraZeneca, Sinopharm/Beijing, Sputnik V       1\n",
       "Name: vaccines, Length: 69, dtype: int64"
      ]
     },
     "execution_count": 10,
     "metadata": {},
     "output_type": "execute_result"
    }
   ],
   "source": [
    "import pandas as pd\n",
    "covid_data=pd.read_csv('data/covid_data.csv')\n",
    "vaccinations_data = pd.read_csv('data/country_vaccinations.csv')\n",
    "vaccinations_data = pd.read_csv('data/country_vaccinations.csv')\n",
    "vaccinations_data = pd.read_csv('data/country_vaccinations.csv')\n",
    "vaccinations_data = vaccinations_data[\n",
    "    ['country', 'date', 'total_vaccinations', \n",
    "     'people_vaccinated', 'people_vaccinated_per_hundred',\n",
    "     'people_fully_vaccinated', 'people_fully_vaccinated_per_hundred',\n",
    "     'daily_vaccinations', 'vaccines']\n",
    "]\n",
    "vaccinations_data['vaccines'].value_counts()\n",
    "\n"
   ]
  }
 ],
 "metadata": {
  "interpreter": {
   "hash": "6d29b40548cbf5ad3c06164e601114e20fac0dd21d3ea15c1b85aadaf62f7962"
  },
  "kernelspec": {
   "display_name": "Python 3.9.10 64-bit",
   "language": "python",
   "name": "python3"
  },
  "language_info": {
   "codemirror_mode": {
    "name": "ipython",
    "version": 3
   },
   "file_extension": ".py",
   "mimetype": "text/x-python",
   "name": "python",
   "nbconvert_exporter": "python",
   "pygments_lexer": "ipython3",
   "version": "3.9.10"
  },
  "orig_nbformat": 4
 },
 "nbformat": 4,
 "nbformat_minor": 2
}
