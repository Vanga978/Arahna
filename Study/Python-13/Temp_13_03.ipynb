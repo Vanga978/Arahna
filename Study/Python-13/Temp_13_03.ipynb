{
 "cells": [
  {
   "cell_type": "code",
   "execution_count": 134,
   "metadata": {},
   "outputs": [
    {
     "data": {
      "text/plain": [
       "67.06"
      ]
     },
     "execution_count": 134,
     "metadata": {},
     "output_type": "execute_result"
    }
   ],
   "source": [
    "import pandas as pd\n",
    "covid_data=pd.read_csv('data/covid_data.csv')\n",
    "vaccinations_data = pd.read_csv('data/country_vaccinations.csv')\n",
    "vaccinations_data = vaccinations_data[\n",
    "    ['country', 'date', 'total_vaccinations', \n",
    "     'people_vaccinated', 'people_vaccinated_per_hundred',\n",
    "     'people_fully_vaccinated', 'people_fully_vaccinated_per_hundred',\n",
    "     'daily_vaccinations', 'vaccines']\n",
    "]\n",
    "#display(covid_data)\n",
    "a=covid_data[covid_data['date']=='05/29/2021'].loc[305842:]\n",
    "a[a['country']=='United States'].head() # Вывод как в юните\n",
    "\n",
    "covid_data=covid_data.groupby(['date','country'],as_index=False)[['confirmed','deaths','recovered']].sum()\n",
    "covid_data['date'] = pd.to_datetime(covid_data['date'])\n",
    "covid_data['active']=covid_data['confirmed']-covid_data['deaths']-covid_data['recovered']\n",
    "covid_data=covid_data.sort_values(by=['country','date'])\n",
    "covid_data['daily_confirmed'] = covid_data.groupby('country')['confirmed'].diff()\n",
    "covid_data['daily_deaths'] = covid_data.groupby('country')['deaths'].diff()\n",
    "covid_data['daily_recovered'] = covid_data.groupby('country')['recovered'].diff()\n",
    "vaccinations_data['date'] = pd.to_datetime(vaccinations_data['date'])\n",
    "\n",
    "covid_data['date'].min()\n",
    "covid_data['date'].max()    # 3.1\n",
    "\n",
    "vaccinations_data['date'].min()\n",
    "vaccinations_data['date'].max()               # 3.2\n",
    "\n",
    "covid_df=covid_data.merge(vaccinations_data,on=['date','country'],how='left')\n",
    "#covid_df.info()                                                                      # 3.3\n",
    "\n",
    "covid_df['death_rate']=covid_df['deaths']/covid_df['confirmed']*100\n",
    "covid_df['recover_rate']=covid_df['recovered']/covid_df['confirmed']*100\n",
    "\n",
    "covid_df_US=covid_df[['date','country','confirmed','deaths','recovered','death_rate','recover_rate']]\n",
    "covid_df_US=covid_df_US[covid_df_US['country']=='United States']\n",
    "round(covid_df_US['death_rate'].max(),2)                                                                  # 3.4\n",
    "\n",
    "covid_df_RU=covid_df[['date','country','confirmed','deaths','recovered','death_rate','recover_rate']]\n",
    "covid_df_RU=covid_df_RU[covid_df_RU['country']=='Russia']\n",
    "round(covid_df_RU['recover_rate'].mean(),2)                                                                # 3.5\n",
    "\n",
    "\n",
    "\n"
   ]
  }
 ],
 "metadata": {
  "interpreter": {
   "hash": "6d29b40548cbf5ad3c06164e601114e20fac0dd21d3ea15c1b85aadaf62f7962"
  },
  "kernelspec": {
   "display_name": "Python 3.9.10 64-bit",
   "language": "python",
   "name": "python3"
  },
  "language_info": {
   "codemirror_mode": {
    "name": "ipython",
    "version": 3
   },
   "file_extension": ".py",
   "mimetype": "text/x-python",
   "name": "python",
   "nbconvert_exporter": "python",
   "pygments_lexer": "ipython3",
   "version": "3.9.10"
  },
  "orig_nbformat": 4
 },
 "nbformat": 4,
 "nbformat_minor": 2
}
